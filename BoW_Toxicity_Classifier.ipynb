{
  "nbformat": 4,
  "nbformat_minor": 0,
  "metadata": {
    "colab": {
      "name": "BoW_Toxicity_Classifier.ipynb",
      "provenance": [],
      "collapsed_sections": [
        "Q0HKhu4ssF7t",
        "JR60qz3_BLd1",
        "iDkwpW15tY70"
      ]
    },
    "kernelspec": {
      "name": "python3",
      "display_name": "Python 3"
    }
  },
  "cells": [
    {
      "cell_type": "code",
      "metadata": {
        "id": "txmc6yTRDiFI",
        "colab_type": "code",
        "outputId": "2f778542-1441-4029-db5e-cf8bbd8b86bf",
        "colab": {
          "base_uri": "https://localhost:8080/",
          "height": 90
        }
      },
      "source": [
        "!pip install xgboost"
      ],
      "execution_count": 0,
      "outputs": [
        {
          "output_type": "stream",
          "text": [
            "Requirement already satisfied: xgboost in /usr/local/lib/python3.6/dist-packages (0.90)\n",
            "Requirement already satisfied: numpy in /usr/local/lib/python3.6/dist-packages (from xgboost) (1.17.4)\n",
            "Requirement already satisfied: scipy in /usr/local/lib/python3.6/dist-packages (from xgboost) (1.3.3)\n"
          ],
          "name": "stdout"
        }
      ]
    },
    {
      "cell_type": "code",
      "metadata": {
        "id": "wBmne1ydgXFR",
        "colab_type": "code",
        "colab": {}
      },
      "source": [
        "# Hide deprecation warnings\n",
        "import warnings\n",
        "warnings.filterwarnings('ignore')\n",
        "\n",
        "# Common imports\n",
        "import numpy as np\n",
        "import pandas as pd\n",
        "import re, string\n",
        "import math\n",
        "from itertools import product\n",
        "from google.colab import drive\n",
        "\n",
        "# Imports for models\n",
        "from sklearn.feature_extraction.text import CountVectorizer\n",
        "from sklearn.naive_bayes import MultinomialNB\n",
        "from sklearn.ensemble import RandomForestClassifier\n",
        "from sklearn.ensemble import AdaBoostClassifier\n",
        "from sklearn.metrics import accuracy_score, roc_auc_score, roc_curve, f1_score, recall_score, precision_score\n",
        "from gensim.models.word2vec import Word2Vec\n",
        "from sklearn.feature_extraction.text import TfidfVectorizer\n",
        "import xgboost as xgb\n",
        "\n",
        "# Make this notebook's output stable across runs\n",
        "np.random.seed(42)\n",
        "\n",
        "# To plot pretty figures\n",
        "%matplotlib inline\n",
        "import matplotlib.pyplot as plt\n",
        "plt.rcParams['axes.labelsize'] = 14\n",
        "plt.rcParams['xtick.labelsize'] = 12\n",
        "plt.rcParams['ytick.labelsize'] = 12\n",
        "\n",
        "# To format floats\n",
        "from IPython.display import display\n",
        "pd.set_option('display.float_format', lambda x: '%.5f' % x)"
      ],
      "execution_count": 0,
      "outputs": []
    },
    {
      "cell_type": "code",
      "metadata": {
        "id": "QGs9yb8hj-PZ",
        "colab_type": "code",
        "outputId": "0718e918-3e98-4324-d551-19027d495820",
        "colab": {
          "base_uri": "https://localhost:8080/",
          "height": 183
        }
      },
      "source": [
        "#Data Reading\n",
        "# Mount drive for data reading\n",
        "# This will prompt for authorization.\n",
        "drive.mount('/content/drive')\n",
        "path = \"/content/drive/Shared drives/CIS 519 Project/Code/Dataset/Resampled4/\""
      ],
      "execution_count": 0,
      "outputs": [
        {
          "output_type": "stream",
          "text": [
            "Go to this URL in a browser: https://accounts.google.com/o/oauth2/auth?client_id=947318989803-6bn6qk8qdgf4n4g3pfee6491hc0brc4i.apps.googleusercontent.com&redirect_uri=urn%3aietf%3awg%3aoauth%3a2.0%3aoob&response_type=code&scope=email%20https%3a%2f%2fwww.googleapis.com%2fauth%2fdocs.test%20https%3a%2f%2fwww.googleapis.com%2fauth%2fdrive%20https%3a%2f%2fwww.googleapis.com%2fauth%2fdrive.photos.readonly%20https%3a%2f%2fwww.googleapis.com%2fauth%2fpeopleapi.readonly\n",
            "\n",
            "Enter your authorization code:\n",
            "··········\n",
            "Mounted at /content/drive\n"
          ],
          "name": "stdout"
        }
      ]
    },
    {
      "cell_type": "code",
      "metadata": {
        "id": "lWcOrJeykK-D",
        "colab_type": "code",
        "colab": {}
      },
      "source": [
        "#Read full data path = \"/content/drive/Shared drives/CIS 519 Project/Code/Dataset/\"\n",
        "df_train = pd.read_csv(path + 'train.csv')\n",
        "df_val = pd.read_csv(path + 'validation.csv')\n",
        "#df_train = df_train.sample(10000)\n",
        "#df_val = df_val.sample(5000)"
      ],
      "execution_count": 0,
      "outputs": []
    },
    {
      "cell_type": "code",
      "metadata": {
        "id": "V3lWQbR6kUNF",
        "colab_type": "code",
        "outputId": "3df2feb8-d356-4ccb-8281-8b599d211e53",
        "colab": {
          "base_uri": "https://localhost:8080/",
          "height": 870
        }
      },
      "source": [
        "df_train.head(10)"
      ],
      "execution_count": 0,
      "outputs": [
        {
          "output_type": "execute_result",
          "data": {
            "text/html": [
              "<div>\n",
              "<style scoped>\n",
              "    .dataframe tbody tr th:only-of-type {\n",
              "        vertical-align: middle;\n",
              "    }\n",
              "\n",
              "    .dataframe tbody tr th {\n",
              "        vertical-align: top;\n",
              "    }\n",
              "\n",
              "    .dataframe thead th {\n",
              "        text-align: right;\n",
              "    }\n",
              "</style>\n",
              "<table border=\"1\" class=\"dataframe\">\n",
              "  <thead>\n",
              "    <tr style=\"text-align: right;\">\n",
              "      <th></th>\n",
              "      <th>id</th>\n",
              "      <th>target</th>\n",
              "      <th>comment_text</th>\n",
              "      <th>female</th>\n",
              "      <th>male</th>\n",
              "      <th>homosexual_gay_or_lesbian</th>\n",
              "      <th>christian</th>\n",
              "      <th>jewish</th>\n",
              "      <th>muslim</th>\n",
              "      <th>black</th>\n",
              "      <th>white</th>\n",
              "      <th>psychiatric_or_mental_illness</th>\n",
              "      <th>identity_annotator_count</th>\n",
              "      <th>toxicity_annotator_count</th>\n",
              "      <th>created_date</th>\n",
              "    </tr>\n",
              "  </thead>\n",
              "  <tbody>\n",
              "    <tr>\n",
              "      <th>0</th>\n",
              "      <td>5367475</td>\n",
              "      <td>0.50000</td>\n",
              "      <td>This is an insult to all immigrants who took t...</td>\n",
              "      <td>0.80000</td>\n",
              "      <td>0.00000</td>\n",
              "      <td>0.00000</td>\n",
              "      <td>0.00000</td>\n",
              "      <td>0.00000</td>\n",
              "      <td>0.00000</td>\n",
              "      <td>0.00000</td>\n",
              "      <td>0.00000</td>\n",
              "      <td>0.10000</td>\n",
              "      <td>10</td>\n",
              "      <td>10</td>\n",
              "      <td>2017-06-06 17:53:11.976493+00</td>\n",
              "    </tr>\n",
              "    <tr>\n",
              "      <th>1</th>\n",
              "      <td>389581</td>\n",
              "      <td>0.16667</td>\n",
              "      <td>Eric, I was unaware that Obama had a line of p...</td>\n",
              "      <td>0.00000</td>\n",
              "      <td>0.60000</td>\n",
              "      <td>0.00000</td>\n",
              "      <td>0.00000</td>\n",
              "      <td>0.00000</td>\n",
              "      <td>0.00000</td>\n",
              "      <td>0.00000</td>\n",
              "      <td>0.90000</td>\n",
              "      <td>0.00000</td>\n",
              "      <td>10</td>\n",
              "      <td>6</td>\n",
              "      <td>2016-07-15 23:22:57.603863+00</td>\n",
              "    </tr>\n",
              "    <tr>\n",
              "      <th>2</th>\n",
              "      <td>259203</td>\n",
              "      <td>0.60000</td>\n",
              "      <td>\"malign her character because of alleged illeg...</td>\n",
              "      <td>1.00000</td>\n",
              "      <td>0.00000</td>\n",
              "      <td>0.00000</td>\n",
              "      <td>0.00000</td>\n",
              "      <td>0.00000</td>\n",
              "      <td>0.00000</td>\n",
              "      <td>0.00000</td>\n",
              "      <td>0.00000</td>\n",
              "      <td>0.00000</td>\n",
              "      <td>4</td>\n",
              "      <td>10</td>\n",
              "      <td>2016-03-26 19:14:41.102508+00</td>\n",
              "    </tr>\n",
              "    <tr>\n",
              "      <th>3</th>\n",
              "      <td>6274158</td>\n",
              "      <td>0.00000</td>\n",
              "      <td>Couldn't agree more with your last sentence, E...</td>\n",
              "      <td>0.00000</td>\n",
              "      <td>0.70000</td>\n",
              "      <td>0.90000</td>\n",
              "      <td>0.70000</td>\n",
              "      <td>0.00000</td>\n",
              "      <td>0.00000</td>\n",
              "      <td>0.00000</td>\n",
              "      <td>0.00000</td>\n",
              "      <td>0.00000</td>\n",
              "      <td>10</td>\n",
              "      <td>4</td>\n",
              "      <td>2017-11-02 15:49:53.222384+00</td>\n",
              "    </tr>\n",
              "    <tr>\n",
              "      <th>4</th>\n",
              "      <td>5435081</td>\n",
              "      <td>0.50000</td>\n",
              "      <td>The liberal, married, gay Black woman who took...</td>\n",
              "      <td>0.83333</td>\n",
              "      <td>0.16667</td>\n",
              "      <td>0.83333</td>\n",
              "      <td>0.00000</td>\n",
              "      <td>0.00000</td>\n",
              "      <td>0.00000</td>\n",
              "      <td>0.83333</td>\n",
              "      <td>0.00000</td>\n",
              "      <td>0.00000</td>\n",
              "      <td>6</td>\n",
              "      <td>10</td>\n",
              "      <td>2017-06-18 13:26:29.297687+00</td>\n",
              "    </tr>\n",
              "    <tr>\n",
              "      <th>5</th>\n",
              "      <td>5693877</td>\n",
              "      <td>0.00000</td>\n",
              "      <td>Get over it, two men took to the ring and one ...</td>\n",
              "      <td>0.00000</td>\n",
              "      <td>1.00000</td>\n",
              "      <td>0.00000</td>\n",
              "      <td>0.00000</td>\n",
              "      <td>0.00000</td>\n",
              "      <td>0.00000</td>\n",
              "      <td>0.00000</td>\n",
              "      <td>0.00000</td>\n",
              "      <td>0.00000</td>\n",
              "      <td>4</td>\n",
              "      <td>4</td>\n",
              "      <td>2017-08-01 02:59:30.400500+00</td>\n",
              "    </tr>\n",
              "    <tr>\n",
              "      <th>6</th>\n",
              "      <td>5801144</td>\n",
              "      <td>0.60000</td>\n",
              "      <td>Yes, yes, it's \"The Media\" who forced Trump to...</td>\n",
              "      <td>1.00000</td>\n",
              "      <td>0.00000</td>\n",
              "      <td>0.00000</td>\n",
              "      <td>0.00000</td>\n",
              "      <td>0.00000</td>\n",
              "      <td>0.00000</td>\n",
              "      <td>0.00000</td>\n",
              "      <td>1.00000</td>\n",
              "      <td>0.00000</td>\n",
              "      <td>4</td>\n",
              "      <td>10</td>\n",
              "      <td>2017-08-19 16:02:37.201001+00</td>\n",
              "    </tr>\n",
              "    <tr>\n",
              "      <th>7</th>\n",
              "      <td>5078252</td>\n",
              "      <td>0.50000</td>\n",
              "      <td>\"cannon fodder\" - they are \"acceptable losses\"...</td>\n",
              "      <td>1.00000</td>\n",
              "      <td>0.00000</td>\n",
              "      <td>0.00000</td>\n",
              "      <td>0.00000</td>\n",
              "      <td>0.00000</td>\n",
              "      <td>0.00000</td>\n",
              "      <td>0.00000</td>\n",
              "      <td>0.00000</td>\n",
              "      <td>0.00000</td>\n",
              "      <td>4</td>\n",
              "      <td>10</td>\n",
              "      <td>2017-03-31 18:03:36.139268+00</td>\n",
              "    </tr>\n",
              "    <tr>\n",
              "      <th>8</th>\n",
              "      <td>5277082</td>\n",
              "      <td>0.00000</td>\n",
              "      <td>No, not who cares, as in who cares, rather htt...</td>\n",
              "      <td>0.00000</td>\n",
              "      <td>1.00000</td>\n",
              "      <td>0.00000</td>\n",
              "      <td>0.00000</td>\n",
              "      <td>0.00000</td>\n",
              "      <td>0.00000</td>\n",
              "      <td>0.00000</td>\n",
              "      <td>0.00000</td>\n",
              "      <td>0.00000</td>\n",
              "      <td>4</td>\n",
              "      <td>4</td>\n",
              "      <td>2017-05-19 14:33:37.520110+00</td>\n",
              "    </tr>\n",
              "    <tr>\n",
              "      <th>9</th>\n",
              "      <td>489731</td>\n",
              "      <td>0.82857</td>\n",
              "      <td>The hate of white males from the progressive p...</td>\n",
              "      <td>0.00000</td>\n",
              "      <td>1.00000</td>\n",
              "      <td>0.00000</td>\n",
              "      <td>0.00000</td>\n",
              "      <td>0.00000</td>\n",
              "      <td>0.00000</td>\n",
              "      <td>0.00000</td>\n",
              "      <td>1.00000</td>\n",
              "      <td>0.00000</td>\n",
              "      <td>4</td>\n",
              "      <td>70</td>\n",
              "      <td>2016-09-24 04:44:47.907794+00</td>\n",
              "    </tr>\n",
              "  </tbody>\n",
              "</table>\n",
              "</div>"
            ],
            "text/plain": [
              "        id  target  ... toxicity_annotator_count                   created_date\n",
              "0  5367475 0.50000  ...                       10  2017-06-06 17:53:11.976493+00\n",
              "1   389581 0.16667  ...                        6  2016-07-15 23:22:57.603863+00\n",
              "2   259203 0.60000  ...                       10  2016-03-26 19:14:41.102508+00\n",
              "3  6274158 0.00000  ...                        4  2017-11-02 15:49:53.222384+00\n",
              "4  5435081 0.50000  ...                       10  2017-06-18 13:26:29.297687+00\n",
              "5  5693877 0.00000  ...                        4  2017-08-01 02:59:30.400500+00\n",
              "6  5801144 0.60000  ...                       10  2017-08-19 16:02:37.201001+00\n",
              "7  5078252 0.50000  ...                       10  2017-03-31 18:03:36.139268+00\n",
              "8  5277082 0.00000  ...                        4  2017-05-19 14:33:37.520110+00\n",
              "9   489731 0.82857  ...                       70  2016-09-24 04:44:47.907794+00\n",
              "\n",
              "[10 rows x 15 columns]"
            ]
          },
          "metadata": {
            "tags": []
          },
          "execution_count": 8
        }
      ]
    },
    {
      "cell_type": "code",
      "metadata": {
        "id": "_joJefdulPWX",
        "colab_type": "code",
        "outputId": "785950e1-2ac6-4744-f2da-e07c1766306b",
        "colab": {
          "base_uri": "https://localhost:8080/",
          "height": 755
        }
      },
      "source": [
        "df_val.head(10)"
      ],
      "execution_count": 0,
      "outputs": [
        {
          "output_type": "execute_result",
          "data": {
            "text/html": [
              "<div>\n",
              "<style scoped>\n",
              "    .dataframe tbody tr th:only-of-type {\n",
              "        vertical-align: middle;\n",
              "    }\n",
              "\n",
              "    .dataframe tbody tr th {\n",
              "        vertical-align: top;\n",
              "    }\n",
              "\n",
              "    .dataframe thead th {\n",
              "        text-align: right;\n",
              "    }\n",
              "</style>\n",
              "<table border=\"1\" class=\"dataframe\">\n",
              "  <thead>\n",
              "    <tr style=\"text-align: right;\">\n",
              "      <th></th>\n",
              "      <th>id</th>\n",
              "      <th>target</th>\n",
              "      <th>comment_text</th>\n",
              "      <th>female</th>\n",
              "      <th>male</th>\n",
              "      <th>homosexual_gay_or_lesbian</th>\n",
              "      <th>christian</th>\n",
              "      <th>jewish</th>\n",
              "      <th>muslim</th>\n",
              "      <th>black</th>\n",
              "      <th>white</th>\n",
              "      <th>psychiatric_or_mental_illness</th>\n",
              "      <th>identity_annotator_count</th>\n",
              "      <th>toxicity_annotator_count</th>\n",
              "      <th>created_date</th>\n",
              "    </tr>\n",
              "  </thead>\n",
              "  <tbody>\n",
              "    <tr>\n",
              "      <th>0</th>\n",
              "      <td>400154</td>\n",
              "      <td>0.00000</td>\n",
              "      <td>Donald always has been a lefty wing Manhattani...</td>\n",
              "      <td>1.00000</td>\n",
              "      <td>0.00000</td>\n",
              "      <td>0.00000</td>\n",
              "      <td>0.00000</td>\n",
              "      <td>0.00000</td>\n",
              "      <td>0.00000</td>\n",
              "      <td>0.00000</td>\n",
              "      <td>0.00000</td>\n",
              "      <td>0.00000</td>\n",
              "      <td>4</td>\n",
              "      <td>4</td>\n",
              "      <td>2016-07-24 22:43:28.495610+00</td>\n",
              "    </tr>\n",
              "    <tr>\n",
              "      <th>1</th>\n",
              "      <td>5092755</td>\n",
              "      <td>0.00000</td>\n",
              "      <td>Again, to be fair, it was just the one guy who...</td>\n",
              "      <td>0.80000</td>\n",
              "      <td>0.00000</td>\n",
              "      <td>0.00000</td>\n",
              "      <td>0.00000</td>\n",
              "      <td>0.00000</td>\n",
              "      <td>0.00000</td>\n",
              "      <td>0.00000</td>\n",
              "      <td>0.00000</td>\n",
              "      <td>0.00000</td>\n",
              "      <td>5</td>\n",
              "      <td>4</td>\n",
              "      <td>2017-04-04 20:08:40.823984+00</td>\n",
              "    </tr>\n",
              "    <tr>\n",
              "      <th>2</th>\n",
              "      <td>797853</td>\n",
              "      <td>0.60000</td>\n",
              "      <td>I am going to start an organization so ALL ord...</td>\n",
              "      <td>0.00000</td>\n",
              "      <td>1.00000</td>\n",
              "      <td>0.00000</td>\n",
              "      <td>1.00000</td>\n",
              "      <td>0.00000</td>\n",
              "      <td>0.00000</td>\n",
              "      <td>0.00000</td>\n",
              "      <td>0.00000</td>\n",
              "      <td>0.00000</td>\n",
              "      <td>4</td>\n",
              "      <td>10</td>\n",
              "      <td>2017-01-06 04:54:33.684047+00</td>\n",
              "    </tr>\n",
              "    <tr>\n",
              "      <th>3</th>\n",
              "      <td>5046660</td>\n",
              "      <td>1.00000</td>\n",
              "      <td>LMAO...what on god's green earth makes you thi...</td>\n",
              "      <td>0.10000</td>\n",
              "      <td>0.80000</td>\n",
              "      <td>0.00000</td>\n",
              "      <td>0.00000</td>\n",
              "      <td>0.00000</td>\n",
              "      <td>0.00000</td>\n",
              "      <td>0.00000</td>\n",
              "      <td>0.00000</td>\n",
              "      <td>0.00000</td>\n",
              "      <td>10</td>\n",
              "      <td>4</td>\n",
              "      <td>2017-03-23 23:54:30.927369+00</td>\n",
              "    </tr>\n",
              "    <tr>\n",
              "      <th>4</th>\n",
              "      <td>882416</td>\n",
              "      <td>0.00000</td>\n",
              "      <td>Master Yoda told me; Hmmmm...Hmmm.. \"Much whin...</td>\n",
              "      <td>1.00000</td>\n",
              "      <td>0.00000</td>\n",
              "      <td>0.00000</td>\n",
              "      <td>0.00000</td>\n",
              "      <td>0.00000</td>\n",
              "      <td>0.00000</td>\n",
              "      <td>0.00000</td>\n",
              "      <td>0.00000</td>\n",
              "      <td>0.00000</td>\n",
              "      <td>4</td>\n",
              "      <td>4</td>\n",
              "      <td>2017-01-23 04:17:54.377161+00</td>\n",
              "    </tr>\n",
              "    <tr>\n",
              "      <th>5</th>\n",
              "      <td>984833</td>\n",
              "      <td>0.16667</td>\n",
              "      <td>I am SO happy and grateful to see people stand...</td>\n",
              "      <td>1.00000</td>\n",
              "      <td>0.00000</td>\n",
              "      <td>0.00000</td>\n",
              "      <td>0.00000</td>\n",
              "      <td>0.00000</td>\n",
              "      <td>0.00000</td>\n",
              "      <td>0.00000</td>\n",
              "      <td>0.00000</td>\n",
              "      <td>0.00000</td>\n",
              "      <td>4</td>\n",
              "      <td>6</td>\n",
              "      <td>2017-02-12 07:08:51.852690+00</td>\n",
              "    </tr>\n",
              "    <tr>\n",
              "      <th>6</th>\n",
              "      <td>5499900</td>\n",
              "      <td>0.16667</td>\n",
              "      <td>Trump has been objectifying women for decades....</td>\n",
              "      <td>1.00000</td>\n",
              "      <td>0.00000</td>\n",
              "      <td>0.00000</td>\n",
              "      <td>0.00000</td>\n",
              "      <td>0.00000</td>\n",
              "      <td>0.00000</td>\n",
              "      <td>0.00000</td>\n",
              "      <td>0.00000</td>\n",
              "      <td>0.00000</td>\n",
              "      <td>4</td>\n",
              "      <td>6</td>\n",
              "      <td>2017-06-29 19:30:21.743759+00</td>\n",
              "    </tr>\n",
              "    <tr>\n",
              "      <th>7</th>\n",
              "      <td>728632</td>\n",
              "      <td>0.50000</td>\n",
              "      <td>Ms. Kurdi claims that Canada is partly respons...</td>\n",
              "      <td>1.00000</td>\n",
              "      <td>0.00000</td>\n",
              "      <td>0.00000</td>\n",
              "      <td>0.00000</td>\n",
              "      <td>0.00000</td>\n",
              "      <td>0.00000</td>\n",
              "      <td>0.00000</td>\n",
              "      <td>0.00000</td>\n",
              "      <td>0.00000</td>\n",
              "      <td>4</td>\n",
              "      <td>10</td>\n",
              "      <td>2016-12-19 15:24:50.573840+00</td>\n",
              "    </tr>\n",
              "    <tr>\n",
              "      <th>8</th>\n",
              "      <td>5408070</td>\n",
              "      <td>0.80000</td>\n",
              "      <td>The Catholic church confuses forgiveness with ...</td>\n",
              "      <td>0.00000</td>\n",
              "      <td>0.60000</td>\n",
              "      <td>0.00000</td>\n",
              "      <td>1.00000</td>\n",
              "      <td>0.00000</td>\n",
              "      <td>0.00000</td>\n",
              "      <td>0.00000</td>\n",
              "      <td>0.00000</td>\n",
              "      <td>0.00000</td>\n",
              "      <td>10</td>\n",
              "      <td>10</td>\n",
              "      <td>2017-06-13 18:26:08.994210+00</td>\n",
              "    </tr>\n",
              "    <tr>\n",
              "      <th>9</th>\n",
              "      <td>5253827</td>\n",
              "      <td>0.00000</td>\n",
              "      <td>\"Cultural Appropriation\" as an accusation is a...</td>\n",
              "      <td>0.00000</td>\n",
              "      <td>1.00000</td>\n",
              "      <td>0.00000</td>\n",
              "      <td>0.00000</td>\n",
              "      <td>0.00000</td>\n",
              "      <td>0.00000</td>\n",
              "      <td>0.00000</td>\n",
              "      <td>1.00000</td>\n",
              "      <td>0.00000</td>\n",
              "      <td>4</td>\n",
              "      <td>4</td>\n",
              "      <td>2017-05-14 02:35:25.722340+00</td>\n",
              "    </tr>\n",
              "  </tbody>\n",
              "</table>\n",
              "</div>"
            ],
            "text/plain": [
              "        id  target  ... toxicity_annotator_count                   created_date\n",
              "0   400154 0.00000  ...                        4  2016-07-24 22:43:28.495610+00\n",
              "1  5092755 0.00000  ...                        4  2017-04-04 20:08:40.823984+00\n",
              "2   797853 0.60000  ...                       10  2017-01-06 04:54:33.684047+00\n",
              "3  5046660 1.00000  ...                        4  2017-03-23 23:54:30.927369+00\n",
              "4   882416 0.00000  ...                        4  2017-01-23 04:17:54.377161+00\n",
              "5   984833 0.16667  ...                        6  2017-02-12 07:08:51.852690+00\n",
              "6  5499900 0.16667  ...                        6  2017-06-29 19:30:21.743759+00\n",
              "7   728632 0.50000  ...                       10  2016-12-19 15:24:50.573840+00\n",
              "8  5408070 0.80000  ...                       10  2017-06-13 18:26:08.994210+00\n",
              "9  5253827 0.00000  ...                        4  2017-05-14 02:35:25.722340+00\n",
              "\n",
              "[10 rows x 15 columns]"
            ]
          },
          "metadata": {
            "tags": []
          },
          "execution_count": 9
        }
      ]
    },
    {
      "cell_type": "code",
      "metadata": {
        "id": "N8SR3vbHnxiG",
        "colab_type": "code",
        "outputId": "9b8dd5c7-3067-4b9f-b731-d964f87730c7",
        "colab": {
          "base_uri": "https://localhost:8080/",
          "height": 48
        }
      },
      "source": [
        "vectorizer = CountVectorizer()\n",
        "train_features = vectorizer.fit_transform(df_train.comment_text)\n",
        "test_features = vectorizer.transform(df_val.comment_text)\n",
        "\n",
        "i = 15000\n",
        "j = 15000\n",
        "\n",
        "#An example of what features have inside\n",
        "words = vectorizer.get_feature_names()[i:i+10]\n",
        "pd.DataFrame(train_features[j:j+7,i:i+10].todense(), columns=words)"
      ],
      "execution_count": 0,
      "outputs": [
        {
          "output_type": "execute_result",
          "data": {
            "text/html": [
              "<div>\n",
              "<style scoped>\n",
              "    .dataframe tbody tr th:only-of-type {\n",
              "        vertical-align: middle;\n",
              "    }\n",
              "\n",
              "    .dataframe tbody tr th {\n",
              "        vertical-align: top;\n",
              "    }\n",
              "\n",
              "    .dataframe thead th {\n",
              "        text-align: right;\n",
              "    }\n",
              "</style>\n",
              "<table border=\"1\" class=\"dataframe\">\n",
              "  <thead>\n",
              "    <tr style=\"text-align: right;\">\n",
              "      <th></th>\n",
              "      <th>kenneth</th>\n",
              "      <th>kenney</th>\n",
              "      <th>kenny</th>\n",
              "      <th>kenoi</th>\n",
              "      <th>kentucky</th>\n",
              "      <th>kenya</th>\n",
              "      <th>kenyan</th>\n",
              "      <th>kept</th>\n",
              "      <th>kermit</th>\n",
              "      <th>kerns</th>\n",
              "    </tr>\n",
              "  </thead>\n",
              "  <tbody>\n",
              "  </tbody>\n",
              "</table>\n",
              "</div>"
            ],
            "text/plain": [
              "Empty DataFrame\n",
              "Columns: [kenneth, kenney, kenny, kenoi, kentucky, kenya, kenyan, kept, kermit, kerns]\n",
              "Index: []"
            ]
          },
          "metadata": {
            "tags": []
          },
          "execution_count": 10
        }
      ]
    },
    {
      "cell_type": "code",
      "metadata": {
        "id": "ekPyuuk1osx6",
        "colab_type": "code",
        "colab": {}
      },
      "source": [
        "#Generate labels\n",
        "toxicity_labels_train = list(df_train.target.apply(lambda x: 1 if x >= 0.5 else 0))\n",
        "toxicity_labels_val = list(df_val.target.apply(lambda x: 1 if x >= 0.5 else 0))"
      ],
      "execution_count": 0,
      "outputs": []
    },
    {
      "cell_type": "code",
      "metadata": {
        "id": "JOrjjjXTpE6Z",
        "colab_type": "code",
        "outputId": "5b7bd7da-00ea-402e-b5b4-2428f34831b9",
        "colab": {
          "base_uri": "https://localhost:8080/",
          "height": 32
        }
      },
      "source": [
        "print(toxicity_labels_train[:50])"
      ],
      "execution_count": 0,
      "outputs": [
        {
          "output_type": "stream",
          "text": [
            "[1, 0, 1, 0, 1, 0, 1, 1, 0, 1, 1, 1, 0, 1, 0, 0, 0, 0, 0, 1, 1, 1, 1, 1, 1, 1, 0, 0, 1, 0, 0, 1, 0, 1, 1, 1, 1, 0, 0, 1, 0, 0, 0, 0, 0, 1, 1, 0, 0, 1]\n"
          ],
          "name": "stdout"
        }
      ]
    },
    {
      "cell_type": "code",
      "metadata": {
        "id": "doHsF2YfpKFE",
        "colab_type": "code",
        "outputId": "d705d8b9-43c8-4e4c-a9f8-364b72720a8f",
        "colab": {
          "base_uri": "https://localhost:8080/",
          "height": 32
        }
      },
      "source": [
        "print(toxicity_labels_val[:50])"
      ],
      "execution_count": 0,
      "outputs": [
        {
          "output_type": "stream",
          "text": [
            "[0, 0, 1, 1, 0, 0, 0, 1, 1, 0, 0, 1, 0, 1, 0, 0, 0, 1, 1, 0, 0, 1, 0, 0, 0, 0, 0, 0, 1, 0, 0, 0, 0, 0, 0, 0, 0, 0, 0, 0, 0, 0, 0, 1, 0, 0, 0, 0, 0, 0]\n"
          ],
          "name": "stdout"
        }
      ]
    },
    {
      "cell_type": "code",
      "metadata": {
        "id": "aatFFu5cpaW4",
        "colab_type": "code",
        "outputId": "fc5fad31-1b55-4f42-d570-78d1805c81c3",
        "colab": {
          "base_uri": "https://localhost:8080/",
          "height": 32
        }
      },
      "source": [
        "print(\"Different words:\",len(vectorizer.get_feature_names()))"
      ],
      "execution_count": 0,
      "outputs": [
        {
          "output_type": "stream",
          "text": [
            "Different words: 30071\n"
          ],
          "name": "stdout"
        }
      ]
    },
    {
      "cell_type": "code",
      "metadata": {
        "id": "01RpPSnipqzb",
        "colab_type": "code",
        "colab": {}
      },
      "source": [
        "def performance(y_true, pred, ann=True):\n",
        "    acc = accuracy_score(y_true, pred[:,1]>0.5)\n",
        "    auc = roc_auc_score(y_true, pred[:,1])\n",
        "    fpr, tpr, thr = roc_curve(y_true, pred[:,1])\n",
        "    fig, ax = plt.subplots(nrows=1, ncols=1, figsize=(16, 7))\n",
        "    plt.plot(fpr, tpr, color='royalblue', linewidth=\"3\")\n",
        "    plt.xlabel(\"False positive rate\")\n",
        "    plt.ylabel(\"True positive rate\")\n",
        "    if ann:\n",
        "        ax.annotate(\"Acc: %0.2f\" % acc, (0.2,0.7), size=14)\n",
        "        ax.annotate(\"AUC: %0.2f\" % auc, (0.2,0.6), size=14)\n",
        "        \n",
        "def metric(y_true, y_pred):\n",
        "    assert y_true.shape == y_pred.shape\n",
        "    columns = y_true.shape[1]\n",
        "    column_losses = []\n",
        "    for i in range(0, columns):\n",
        "        column_losses.append(log_loss(y_true[:, i], y_pred[:, i]))\n",
        "    return np.array(column_losses).mean()"
      ],
      "execution_count": 0,
      "outputs": []
    },
    {
      "cell_type": "markdown",
      "metadata": {
        "id": "DeFIekXXqA_K",
        "colab_type": "text"
      },
      "source": [
        "## **Naive Bayes Classifier**"
      ]
    },
    {
      "cell_type": "code",
      "metadata": {
        "id": "iJI0nqOeqI-Z",
        "colab_type": "code",
        "outputId": "d5f08f7a-3d35-4763-8604-e15910431984",
        "colab": {
          "base_uri": "https://localhost:8080/",
          "height": 449
        }
      },
      "source": [
        "model1 = MultinomialNB()\n",
        "model1.fit(train_features, toxicity_labels_train)\n",
        "pred1 = model1.predict_proba(test_features)\n",
        "\n",
        "performance(toxicity_labels_val, pred1)"
      ],
      "execution_count": 0,
      "outputs": [
        {
          "output_type": "display_data",
          "data": {
            "image/png": "[encoded data removed]",
            "text/plain": [
              "<Figure size 1152x504 with 1 Axes>"
            ]
          },
          "metadata": {
            "tags": []
          }
        }
      ]
    },
    {
      "cell_type": "code",
      "metadata": {
        "id": "pbQ-fe1Lqwyt",
        "colab_type": "code",
        "outputId": "4c370cdd-17ce-4d05-8171-08a281ac6700",
        "colab": {
          "base_uri": "https://localhost:8080/",
          "height": 34
        }
      },
      "source": [
        "comment = \"What a stupid comment is the one you made you dumbass\"\n",
        "print(model1.predict(vectorizer.transform([comment]))[0])"
      ],
      "execution_count": 0,
      "outputs": [
        {
          "output_type": "stream",
          "text": [
            "1\n"
          ],
          "name": "stdout"
        }
      ]
    },
    {
      "cell_type": "code",
      "metadata": {
        "id": "0nKtZmWQqxy1",
        "colab_type": "code",
        "outputId": "308588ab-3a70-47e1-e669-3ab02e11d0a6",
        "colab": {
          "base_uri": "https://localhost:8080/",
          "height": 34
        }
      },
      "source": [
        "comment = \"Great comment, thanks for contributing\"\n",
        "print(model1.predict(vectorizer.transform([comment]))[0])"
      ],
      "execution_count": 0,
      "outputs": [
        {
          "output_type": "stream",
          "text": [
            "0\n"
          ],
          "name": "stdout"
        }
      ]
    },
    {
      "cell_type": "markdown",
      "metadata": {
        "id": "VFkk3Ppwq_5S",
        "colab_type": "text"
      },
      "source": [
        "# **Bag-of-words features with the tf-idf algorithm**"
      ]
    },
    {
      "cell_type": "code",
      "metadata": {
        "id": "COf5X0T4q4sn",
        "colab_type": "code",
        "outputId": "4112cba6-78b5-45c0-908f-15885b106fc8",
        "colab": {
          "base_uri": "https://localhost:8080/",
          "height": 449
        }
      },
      "source": [
        "vectorizer = TfidfVectorizer()\n",
        "train_features = vectorizer.fit_transform(df_train.comment_text)\n",
        "\n",
        "model2 = MultinomialNB()\n",
        "model2.fit(train_features, toxicity_labels_train)\n",
        "\n",
        "pred2 = model2.predict_proba(vectorizer.transform(df_val.comment_text))\n",
        "performance(toxicity_labels_val, pred2)"
      ],
      "execution_count": 0,
      "outputs": [
        {
          "output_type": "display_data",
          "data": {
            "image/png": "[encoded data removed]",
            "text/plain": [
              "<Figure size 1152x504 with 1 Axes>"
            ]
          },
          "metadata": {
            "tags": []
          }
        }
      ]
    },
    {
      "cell_type": "markdown",
      "metadata": {
        "id": "Q0HKhu4ssF7t",
        "colab_type": "text"
      },
      "source": [
        "# Optimizing Model Parameters (Skip)"
      ]
    },
    {
      "cell_type": "code",
      "metadata": {
        "id": "t8zgmsWNsA8E",
        "colab_type": "code",
        "colab": {}
      },
      "source": [
        "def build_model(Tfid = True, max_features=None, min_df=1, nb_alpha=1.0):\n",
        "    if Tfid:\n",
        "        vectorizer = TfidfVectorizer(max_features=max_features, min_df=min_df)\n",
        "    else:\n",
        "        vectorizer = CountVectorizer(max_features=max_features, min_df=min_df)\n",
        "    features = vectorizer.fit_transform(df_train.comment_text)\n",
        "    model = MultinomialNB(alpha=nb_alpha)\n",
        "    model.fit(features, toxicity_labels_train)\n",
        "    pred = model.predict_proba(vectorizer.transform(df_val.comment_text))\n",
        "    return {\n",
        "        \"Tfid\": Tfid,\n",
        "        \"max_features\": max_features,\n",
        "        \"min_df\": min_df,\n",
        "        \"nb_alpha\": nb_alpha,\n",
        "        \"auc\": roc_auc_score(toxicity_labels_val, pred[:,1])\n",
        "    }"
      ],
      "execution_count": 0,
      "outputs": []
    },
    {
      "cell_type": "code",
      "metadata": {
        "id": "XQymF2CQscvO",
        "colab_type": "code",
        "colab": {}
      },
      "source": [
        "param_values = {\n",
        "  \"Tfid\": [True,False],\n",
        "  \"max_features\": [10000, 30000, 50000, None],\n",
        "  \"min_df\": [1,2,3],\n",
        "  \"nb_alpha\": [0.01, 0.1, 1.0]\n",
        "}\n",
        "\n",
        "results = []\n",
        "max_auc = 0\n",
        "\n",
        "for p in product(*param_values.values()):\n",
        "    res = build_model(**dict(zip(param_values.keys(), p)))\n",
        "    results.append(res)\n",
        "    if res.get('auc')>max_auc:\n",
        "        max_auc = res.get('auc')\n",
        "        Tfid_opt = res.get('Tfid')\n",
        "        max_features_opt = res.get('max_features')\n",
        "        min_df_opt = res.get('min_df')\n",
        "        nb_alpha_opt = res.get('nb_alpha')\n",
        "    print(res)"
      ],
      "execution_count": 0,
      "outputs": []
    },
    {
      "cell_type": "code",
      "metadata": {
        "id": "Rototfy-stlW",
        "colab_type": "code",
        "colab": {}
      },
      "source": [
        "if Tfid_opt:\n",
        "    vectorizer = TfidfVectorizer(max_features=max_features_opt, min_df=min_df_opt)\n",
        "else:\n",
        "    vectorizer = CountVectorizer(max_features=max_features, min_df=min_df)\n",
        "    \n",
        "features = vectorizer.fit_transform(df_train.comment_text)\n",
        "\n",
        "model2_opt = MultinomialNB(alpha=nb_alpha_opt)\n",
        "model2_opt.fit(features, toxicity_labels_train)\n",
        "\n",
        "pred2_opt = model2_opt.predict_proba(vectorizer.transform(df_val.comment_text))\n",
        "performance(toxicity_labels_val, pred2_opt)"
      ],
      "execution_count": 0,
      "outputs": []
    },
    {
      "cell_type": "code",
      "metadata": {
        "id": "9ZKx313us0Bk",
        "colab_type": "code",
        "colab": {}
      },
      "source": [
        "roc_auc_score(toxicity_labels_val, pred2_opt[:,1])"
      ],
      "execution_count": 0,
      "outputs": []
    },
    {
      "cell_type": "markdown",
      "metadata": {
        "id": "JR60qz3_BLd1",
        "colab_type": "text"
      },
      "source": [
        "# Random Forest Classifier"
      ]
    },
    {
      "cell_type": "code",
      "metadata": {
        "id": "lEEofC5VBJo4",
        "colab_type": "code",
        "colab": {}
      },
      "source": [
        "vectorizer = TfidfVectorizer()\n",
        "train_features = vectorizer.fit_transform(df_train.comment_text)\n",
        "\n",
        "model5 = RandomForestClassifier(n_estimators=100, random_state=0)\n",
        "model5.fit(train_features, toxicity_labels_train)\n",
        "\n",
        "pred4 = model5.predict_proba(vectorizer.transform(df_val.comment_text))\n",
        "performance(toxicity_labels_val, pred4)"
      ],
      "execution_count": 0,
      "outputs": []
    },
    {
      "cell_type": "markdown",
      "metadata": {
        "id": "mpZZlauN7aAP",
        "colab_type": "text"
      },
      "source": [
        "# AdaBoost Classifier"
      ]
    },
    {
      "cell_type": "code",
      "metadata": {
        "id": "C-wDl_IA7eIy",
        "colab_type": "code",
        "colab": {}
      },
      "source": [
        "vectorizer = TfidfVectorizer()\n",
        "train_features = vectorizer.fit_transform(df_train.comment_text)\n",
        "\n",
        "# model4 = AdaBoostClassifier(n_estimators=100, random_state=0)\n",
        "# model4.fit(train_features, toxicity_labels_train)\n",
        "\n",
        "# pred4 = model4.predict_proba(vectorizer.transform(df_val.comment_text))\n",
        "# performance(toxicity_labels_val, pred4)"
      ],
      "execution_count": 0,
      "outputs": []
    },
    {
      "cell_type": "markdown",
      "metadata": {
        "id": "cyyGVYdwC6al",
        "colab_type": "text"
      },
      "source": [
        "# XGBoost Classifier"
      ]
    },
    {
      "cell_type": "code",
      "metadata": {
        "id": "GclkJmcOM1WE",
        "colab_type": "code",
        "outputId": "b9e4dc5e-e0b8-4a5a-ff90-565deb12f67c",
        "colab": {
          "base_uri": "https://localhost:8080/",
          "height": 32
        }
      },
      "source": [
        "train_features.shape"
      ],
      "execution_count": 0,
      "outputs": [
        {
          "output_type": "execute_result",
          "data": {
            "text/plain": [
              "(10974, 30071)"
            ]
          },
          "metadata": {
            "tags": []
          },
          "execution_count": 19
        }
      ]
    },
    {
      "cell_type": "code",
      "metadata": {
        "id": "JWwveoQjC-Wy",
        "colab_type": "code",
        "outputId": "7923f01d-392e-4247-92fc-99812a17bd7d",
        "colab": {
          "base_uri": "https://localhost:8080/",
          "height": 98
        }
      },
      "source": [
        "xg_reg = xgb.XGBRegressor(objective ='reg:squarederror', colsample_bytree = 0.3, learning_rate = 0.1,\n",
        "                max_depth = 5, alpha = 10, n_estimators = 100)\n",
        "xg_reg.fit(train_features, toxicity_labels_train)\n",
        "\n",
        "# Training\n",
        "print(\"XGBoost Training Metrics\")\n",
        "preds = xg_reg.predict(train_features)\n",
        "preds_train = [round(value) for value in preds]\n",
        "acc = accuracy_score(toxicity_labels_train, preds_train)\n",
        "print('Accuracy Score', acc)\n",
        "pre = precision_score(toxicity_labels_train, preds_train)\n",
        "print('Precision Score', pre)\n",
        "rec = recall_score(toxicity_labels_train, preds_train)\n",
        "print('Recall Score', rec)\n",
        "f1 = f1_score(toxicity_labels_train, preds_train, average=\"weighted\")\n",
        "print('F1 Score', f1)"
      ],
      "execution_count": 0,
      "outputs": [
        {
          "output_type": "stream",
          "text": [
            "XGBoost Training Metrics\n",
            "Accuracy Score 0.8313285948605795\n",
            "Precision Score 0.8373937677053824\n",
            "Recall Score 0.8174778761061947\n",
            "F1 Score 0.8312824975062207\n"
          ],
          "name": "stdout"
        }
      ]
    },
    {
      "cell_type": "code",
      "metadata": {
        "id": "I_Scpr5dH-Gc",
        "colab_type": "code",
        "outputId": "ae512e43-3fac-45ec-d483-fd5ffd1053df",
        "colab": {
          "base_uri": "https://localhost:8080/",
          "height": 98
        }
      },
      "source": [
        "# Validation\n",
        "print(\"XGBoost Validation Metrics\")\n",
        "preds = xg_reg.predict(vectorizer.transform(df_val.comment_text))\n",
        "preds_val = [round(value) for value in preds]\n",
        "acc = accuracy_score(toxicity_labels_val, preds_val)\n",
        "print('Accuracy Score', acc)\n",
        "pre = precision_score(toxicity_labels_val, preds_val)\n",
        "print('Precision Score', pre)\n",
        "rec = recall_score(toxicity_labels_val, preds_val)\n",
        "print('Recall Score', rec)\n",
        "f1 = f1_score(toxicity_labels_val, preds_val, average=\"weighted\")\n",
        "print('F1 Score', f1)"
      ],
      "execution_count": 0,
      "outputs": [
        {
          "output_type": "stream",
          "text": [
            "XGBoost Validation Metrics\n",
            "Accuracy Score 0.59\n",
            "Precision Score 0.24361702127659574\n",
            "Recall Score 0.6775147928994083\n",
            "F1 Score 0.6412269584524867\n"
          ],
          "name": "stdout"
        }
      ]
    },
    {
      "cell_type": "markdown",
      "metadata": {
        "id": "uh4AOOezUXEI",
        "colab_type": "text"
      },
      "source": [
        "# XGBoost Fairness Metrics"
      ]
    },
    {
      "cell_type": "code",
      "metadata": {
        "id": "eJjeOAqxUtCA",
        "colab_type": "code",
        "colab": {}
      },
      "source": [
        "#Generate protected attribute - gender\n",
        "def extract_female_gender(x):\n",
        "  if np.isnan(x.female) or x.female < 0.3:\n",
        "      return 0\n",
        "  else:\n",
        "    return 1"
      ],
      "execution_count": 0,
      "outputs": []
    },
    {
      "cell_type": "code",
      "metadata": {
        "id": "D5vDND6LTRC_",
        "colab_type": "code",
        "colab": {}
      },
      "source": [
        "#Generate unprotected attribute labels\n",
        "def get_unprotected_class(list_of_protected):\n",
        "  new = [1 if i == 0 else 0 for i in list_of_protected]\n",
        "  return new"
      ],
      "execution_count": 0,
      "outputs": []
    },
    {
      "cell_type": "code",
      "metadata": {
        "id": "NIJq3KrercxH",
        "colab_type": "code",
        "colab": {}
      },
      "source": [
        "#FAIRNESS METRICS FUNCTION\n",
        "def get_fairness_metrics(actual_labels, y_pred, protected_labels, non_protected_labels, thres):\n",
        "\n",
        "  def get_toxicity_rates(y_pred, protected_labels, non_protected_labels, thres):\n",
        "    protected_ops = y_pred[protected_labels == 1]\n",
        "    protected_prob = sum(protected_ops)/len(protected_ops)\n",
        "\n",
        "    non_protected_ops = y_pred[non_protected_labels == 1]\n",
        "    non_protected_prob = sum(non_protected_ops)/len(non_protected_ops)\n",
        "\n",
        "    return np.round(protected_prob, 2), np.round(non_protected_prob, 2)\n",
        "\n",
        "  def get_true_positive_rates(actual_labels, y_pred, protected_labels, non_protected_labels, thres):\n",
        "\n",
        "    protected_ops = y_pred[np.bitwise_and(protected_labels == 1, actual_labels == 1)]\n",
        "    protected_prob = sum(protected_ops)/len(protected_ops)\n",
        "\n",
        "    non_protected_ops = y_pred[np.bitwise_and(non_protected_labels == 1, actual_labels == 1)]\n",
        "    non_protected_prob = sum(non_protected_ops)/len(non_protected_ops)\n",
        "\n",
        "    return np.round(protected_prob, 2), np.round(non_protected_prob, 2)\n",
        "\n",
        "\n",
        "  def get_false_positive_rates(actual_labels, y_pred, protected_labels, non_protected_labels, thres):\n",
        "\n",
        "    protected_ops = y_pred[np.bitwise_and(protected_labels == 1, actual_labels ==0)]\n",
        "    protected_prob = sum(protected_ops)/len(protected_ops)\n",
        "\n",
        "    non_protected_ops = y_pred[np.bitwise_and(non_protected_labels == 1, actual_labels == 0)]\n",
        "    non_protected_prob = sum(non_protected_ops)/len(non_protected_ops)\n",
        "\n",
        "    return np.round(protected_prob, 2), np.round(non_protected_prob, 2)\n",
        "\n",
        "  def demographic_parity(y_pred, protected_labels, non_protected_labels, thres):\n",
        "\n",
        "    protected_ops = y_pred[protected_labels == 1]\n",
        "    protected_prob = sum(protected_ops)/len(protected_ops)\n",
        "\n",
        "    non_protected_ops = y_pred[non_protected_labels == 1]\n",
        "    non_protected_prob = sum(non_protected_ops)/len(non_protected_ops)\n",
        "\n",
        "    return abs(protected_prob - non_protected_prob) #later take absolute diff - but we want to show females predicted more toxic than male\n",
        "\n",
        "  # | P_female(C = 1| Y = 1) - P_male(C = 1 | Y = 1) | < thres\n",
        "  def true_positive_parity(actual_labels, y_pred, protected_labels, non_protected_labels, thres):\n",
        "\n",
        "    protected_ops = y_pred[np.bitwise_and(protected_labels == 1, actual_labels == 1)]\n",
        "    protected_prob = sum(protected_ops)/len(protected_ops)\n",
        "\n",
        "    non_protected_ops = y_pred[np.bitwise_and(non_protected_labels == 1, actual_labels == 1)]\n",
        "    non_protected_prob = sum(non_protected_ops)/len(non_protected_ops)\n",
        "\n",
        "    return abs(protected_prob - non_protected_prob) #later take absolute diff - but we want to show females predicted more toxic than male\n",
        "\n",
        "  # | P_female(C = 1| Y = 0) - P_male(C = 1 | Y = 0) | < thres\n",
        "  def false_positive_parity(actual_labels, y_pred, protected_labels, non_protected_labels, thres):\n",
        "\n",
        "    protected_ops = y_pred[np.bitwise_and(protected_labels == 1, actual_labels ==0)]\n",
        "    protected_prob = sum(protected_ops)/len(protected_ops)\n",
        "\n",
        "    non_protected_ops = y_pred[np.bitwise_and(non_protected_labels == 1, actual_labels == 0)]\n",
        "    non_protected_prob = sum(non_protected_ops)/len(non_protected_ops)\n",
        "\n",
        "    return abs(protected_prob - non_protected_prob) #later take absolute diff - but we want to show females predicted more toxic than male\n",
        "\n",
        "\n",
        "  # Satisfy both true positive parity and false positive parity\n",
        "  def equalized_odds(actual_labels, y_pred, protected_labels, non_protected_labels, thres):\n",
        "    return true_positive_parity(actual_labels, y_pred, protected_labels, non_protected_labels, thres) + false_positive_parity(actual_labels, y_pred, protected_labels, non_protected_labels, thres)\n",
        "\n",
        "  female_tox_rate, nf_tox_rate = get_toxicity_rates(y_pred, protected_labels, non_protected_labels, thres)\n",
        "  female_tp_rate, nf_tp_rate = get_true_positive_rates(actual_labels, y_pred, protected_labels, non_protected_labels, thres)\n",
        "  female_fp_rate, nf_fp_rate = get_false_positive_rates(actual_labels, y_pred, protected_labels, non_protected_labels, thres)\n",
        "  demo_parity = demographic_parity(y_pred, protected_labels, non_protected_labels, thres)\n",
        "  tp_parity = true_positive_parity(actual_labels, y_pred, protected_labels, non_protected_labels, thres)\n",
        "  fp_parity = false_positive_parity(actual_labels, y_pred, protected_labels, non_protected_labels, thres)\n",
        "  equ_odds = equalized_odds(actual_labels, y_pred, protected_labels, non_protected_labels, thres)\n",
        "\n",
        "  return female_tox_rate, nf_tox_rate, female_tp_rate, nf_tp_rate, female_fp_rate, nf_fp_rate, demo_parity, tp_parity, fp_parity, equ_odds"
      ],
      "execution_count": 0,
      "outputs": []
    },
    {
      "cell_type": "code",
      "metadata": {
        "id": "McPOV3rmGbTJ",
        "colab_type": "code",
        "outputId": "a57f7496-ba43-4cfe-f9bf-cc099dcbe6e1",
        "colab": {
          "base_uri": "https://localhost:8080/",
          "height": 85
        }
      },
      "source": [
        "# Train - Identity and Unprotected Labels\n",
        "identity_labels_train = list(df_train.apply(extract_female_gender, axis = 1))\n",
        "unprotected_labels_train = get_unprotected_class(identity_labels_train)\n",
        "\n",
        "actual_labels = np.array(toxicity_labels_train)\n",
        "y_pred = np.array(preds_train).astype(int)\n",
        "protected_labels = np.array(identity_labels_train)\n",
        "non_protected_labels = np.asarray(get_unprotected_class(identity_labels_train))\n",
        "\n",
        "print(actual_labels)\n",
        "print(y_pred)\n",
        "print(protected_labels)\n",
        "print(non_protected_labels)"
      ],
      "execution_count": 0,
      "outputs": [
        {
          "output_type": "stream",
          "text": [
            "[1 0 1 ... 0 1 1]\n",
            "[1 0 1 ... 0 1 0]\n",
            "[1 0 1 ... 0 1 0]\n",
            "[0 1 0 ... 1 0 1]\n"
          ],
          "name": "stdout"
        }
      ]
    },
    {
      "cell_type": "code",
      "metadata": {
        "id": "uztG-fljGw2H",
        "colab_type": "code",
        "outputId": "36deac33-cbbf-4c70-f869-1eb3604fface",
        "colab": {
          "base_uri": "https://localhost:8080/",
          "height": 153
        }
      },
      "source": [
        "# TRAIN FAIRNESS METRICS\n",
        "thres = 0.5\n",
        "\n",
        "female_tox_rate, nf_tox_rate, female_tp_rate, nf_tp_rate, female_fp_rate, nf_fp_rate, demo_parity, tp_parity, fp_parity, equ_odds = get_fairness_metrics(actual_labels, y_pred, protected_labels, non_protected_labels, thres)\n",
        "\n",
        "print(\"XGBoost Fairness Metrics - Train\")\n",
        "print(\"Toxicity Prediction Rates: \", \"Female -\", female_tox_rate, \"Non-Female - \", nf_tox_rate)\n",
        "print(\"True Positive Prediction Rates: \", \"Female -\", female_tp_rate, \"Non-Female - \", nf_tp_rate)\n",
        "print(\"False Positive Prediction Rates: \", \"Female -\", female_fp_rate, \"Non-Female - \", nf_fp_rate)\n",
        "print(\"Demographic Parity: \", demo_parity)\n",
        "print(\"True Positive Parity: \", tp_parity)\n",
        "print(\"False Positive Parity: \", fp_parity)\n",
        "print(\"Equalized Odds: \", equ_odds)"
      ],
      "execution_count": 0,
      "outputs": [
        {
          "output_type": "stream",
          "text": [
            "XGBoost Fairness Metrics - Train\n",
            "Toxicity Prediction Rates:  Female - 0.8 Non-Female -  0.15\n",
            "True Positive Prediction Rates:  Female - 0.95 Non-Female -  0.49\n",
            "False Positive Prediction Rates:  Female - 0.47 Non-Female -  0.01\n",
            "Demographic Parity:  0.6523809751616978\n",
            "True Positive Parity:  0.4573677259947176\n",
            "False Positive Parity:  0.4592667750242336\n",
            "Equalized Odds:  0.9166345010189512\n"
          ],
          "name": "stdout"
        }
      ]
    },
    {
      "cell_type": "code",
      "metadata": {
        "id": "t_4aDyN5TPWn",
        "colab_type": "code",
        "outputId": "c01deb18-64ee-4b8d-d5f4-aa673e022a52",
        "colab": {
          "base_uri": "https://localhost:8080/",
          "height": 85
        }
      },
      "source": [
        "# Validation - Identity and Unprotected Labels\n",
        "identity_labels_val = list(df_val.apply(extract_female_gender, axis = 1))\n",
        "unprotected_labels_val = get_unprotected_class(identity_labels_val)\n",
        "\n",
        "actual_labels = np.array(toxicity_labels_val)\n",
        "y_pred = np.array(preds_val).astype(int)\n",
        "protected_labels = np.array(identity_labels_val)\n",
        "non_protected_labels = np.asarray(get_unprotected_class(identity_labels_val))\n",
        "\n",
        "print(actual_labels)\n",
        "print(y_pred)\n",
        "print(protected_labels)\n",
        "print(non_protected_labels)"
      ],
      "execution_count": 0,
      "outputs": [
        {
          "output_type": "stream",
          "text": [
            "[0 0 1 ... 0 0 0]\n",
            "[1 1 0 ... 1 0 1]\n",
            "[1 1 0 ... 1 1 1]\n",
            "[0 0 1 ... 0 0 0]\n"
          ],
          "name": "stdout"
        }
      ]
    },
    {
      "cell_type": "code",
      "metadata": {
        "id": "afpsJq0PrgKd",
        "colab_type": "code",
        "outputId": "37e1ab1e-52d1-4ab1-d0e4-63229c82dbb1",
        "colab": {
          "base_uri": "https://localhost:8080/",
          "height": 153
        }
      },
      "source": [
        "# VALIDATION FAIRNESS METRICS\n",
        "thres = 0.5\n",
        "\n",
        "female_tox_rate, nf_tox_rate, female_tp_rate, nf_tp_rate, female_fp_rate, nf_fp_rate, demo_parity, tp_parity, fp_parity, equ_odds = get_fairness_metrics(actual_labels, y_pred, protected_labels, non_protected_labels, thres)\n",
        "\n",
        "print(\"XGBoost Fairness Metrics - Validation\")\n",
        "print(\"Toxicity Prediction Rates: \", \"Female -\", female_tox_rate, \"Non-Female - \", nf_tox_rate)\n",
        "print(\"True Positive Prediction Rates: \", \"Female -\", female_tp_rate, \"Non-Female - \", nf_tp_rate)\n",
        "print(\"False Positive Prediction Rates: \", \"Female -\", female_fp_rate, \"Non-Female - \", nf_fp_rate)\n",
        "print(\"Demographic Parity: \", demo_parity)\n",
        "print(\"True Positive Parity: \", tp_parity)\n",
        "print(\"False Positive Parity: \", fp_parity)\n",
        "print(\"Equalized Odds: \", equ_odds)"
      ],
      "execution_count": 0,
      "outputs": [
        {
          "output_type": "stream",
          "text": [
            "XGBoost Fairness Metrics - Validation\n",
            "Toxicity Prediction Rates:  Female - 0.71 Non-Female -  0.12\n",
            "True Positive Prediction Rates:  Female - 0.89 Non-Female -  0.41\n",
            "False Positive Prediction Rates:  Female - 0.68 Non-Female -  0.06\n",
            "Demographic Parity:  0.5908625586156793\n",
            "True Positive Parity:  0.4794929157345264\n",
            "False Positive Parity:  0.6205786333445908\n",
            "Equalized Odds:  1.1000715490791173\n"
          ],
          "name": "stdout"
        }
      ]
    },
    {
      "cell_type": "markdown",
      "metadata": {
        "id": "iDkwpW15tY70",
        "colab_type": "text"
      },
      "source": [
        "# Word2Vec (Skip below)"
      ]
    },
    {
      "cell_type": "code",
      "metadata": {
        "id": "qJYg98XJtUwO",
        "colab_type": "code",
        "colab": {}
      },
      "source": [
        "stop_words = set(['all', \"she'll\", \"don't\", 'being', 'over', 'through', \n",
        "'yourselves', 'its', 'before', \"he's\", \"when's\", \"we've\", 'had', 'should',\n",
        "\"he'd\", 'to', 'only', \"there's\", 'those', 'under', 'ours', 'has', \n",
        "\"haven't\", 'do', 'them', 'his', \"they'll\", 'very', \"who's\", \"they'd\", \n",
        "'cannot', \"you've\", 'they', 'not', 'during', 'yourself', 'him', 'nor', \n",
        "\"we'll\", 'did', \"they've\", 'this', 'she', 'each', \"won't\", 'where', \n",
        "\"mustn't\", \"isn't\", \"i'll\", \"why's\", 'because', \"you'd\", 'doing', 'some', \n",
        "'up', 'are', 'further', 'ourselves', 'out', 'what', 'for', 'while', \n",
        "\"wasn't\", 'does', \"shouldn't\", 'above', 'between', 'be', 'we', 'who', \n",
        "\"you're\", 'were', 'here', 'hers', \"aren't\", 'by', 'both', 'about', 'would', \n",
        "'of', 'could', 'against', \"i'd\", \"weren't\", \"i'm\", 'or', \"can't\", 'own', \n",
        "'into', 'whom', 'down', \"hadn't\", \"couldn't\", 'your', \"doesn't\", 'from', \n",
        "\"how's\", 'her', 'their', \"it's\", 'there', 'been', 'why', 'few', 'too', \n",
        "'themselves', 'was', 'until', 'more', 'himself', \"where's\", \"i've\", 'with', \n",
        "\"didn't\", \"what's\", 'but', 'herself', 'than', \"here's\", 'he', 'me', \n",
        "\"they're\", 'myself', 'these', \"hasn't\", 'below', 'ought', 'theirs', 'my', \n",
        "\"wouldn't\", \"we'd\", 'and', 'then', 'is', 'am', 'it', 'an', 'as', 'itself', \n",
        "'at', 'have', 'in', 'any', 'if', 'again', 'no', 'that', 'when', 'same', \n",
        "'how', 'other', 'which', 'you', \"shan't\", 'our', 'after', \"let's\", 'most', \n",
        "'such', 'on', \"he'll\", 'a', 'off', 'i', \"she'd\", 'yours', \"you'll\", 'so', \n",
        "\"we're\", \"she's\", 'the', \"that's\", 'having', 'once'])\n",
        "\n",
        "def tokenize(docs):\n",
        "    pattern = re.compile('[\\W_]+', re.UNICODE)\n",
        "    sentences = []\n",
        "    for d in docs:\n",
        "        sentence = d.lower().split(\" \")\n",
        "        sentence = [pattern.sub('', w) for w in sentence]\n",
        "        sentences.append( [w for w in sentence if w not in stop_words] )\n",
        "    return sentences\n",
        "\n",
        "def featurize_w2v(model, sentences):\n",
        "    f = np.zeros((len(sentences), model.vector_size))\n",
        "    for i,s in enumerate(sentences):\n",
        "        for w in s:\n",
        "            try:\n",
        "                vec = model[w]\n",
        "            except KeyError:\n",
        "                continue\n",
        "            f[i,:] = f[i,:] + vec\n",
        "        f[i,:] = f[i,:] / len(s)\n",
        "    return f\n",
        "\n",
        "def delete_nans(features):\n",
        "    rows_to_delete = []\n",
        "    for i in range(len(features)):\n",
        "        if np.isnan(features[i].sum()):\n",
        "            rows_to_delete.append(i)\n",
        "    return rows_to_delete"
      ],
      "execution_count": 0,
      "outputs": []
    },
    {
      "cell_type": "code",
      "metadata": {
        "id": "R328iOnotld4",
        "colab_type": "code",
        "colab": {}
      },
      "source": [
        "sentences = df_train.comment_text #tokenize(df_train.comment_text)\n",
        "model = Word2Vec(sentences, size=500, window=5, min_count=6, sample=1e-3, workers=2)\n",
        "model.init_sims(replace=True)\n",
        "\n",
        "features_w2v = featurize_w2v(model, sentences)\n",
        "\n",
        "rows_to_delete = delete_nans(features_w2v)\n",
        "features_w2v = np.delete(features_w2v, rows_to_delete, 0)\n",
        "\n",
        "df_toxicity_train = pd.DataFrame(toxicity_labels_train)\n",
        "model3 = RandomForestClassifier(n_estimators=600, n_jobs=-1, max_features=\"log2\")\n",
        "model3.fit(features_w2v, df_toxicity_train.drop(df_train.index[rows_to_delete]))\n",
        "\n",
        "test_sentences = df_val.comment_text #tokenize(df_val.comment_text)\n",
        "test_features_w2v = featurize_w2v(model, test_sentences)"
      ],
      "execution_count": 0,
      "outputs": []
    },
    {
      "cell_type": "code",
      "metadata": {
        "id": "s-cC63wUtvWm",
        "colab_type": "code",
        "colab": {}
      },
      "source": [
        "df_toxicity_test = pd.DataFrame(toxicity_labels_test)\n",
        "pred3 = model3.predict_proba(test_features_w2v)\n",
        "performance(df_toxicity_test.drop(df_val.index[rows_to_delete]), pred3)"
      ],
      "execution_count": 0,
      "outputs": []
    },
    {
      "cell_type": "code",
      "metadata": {
        "id": "KtSXtXVyuz8n",
        "colab_type": "code",
        "colab": {}
      },
      "source": [
        "roc_auc_score(df_toxicity_test.drop(df_val.index[rows_to_delete]), pred3[:,1])"
      ],
      "execution_count": 0,
      "outputs": []
    },
    {
      "cell_type": "code",
      "metadata": {
        "id": "wzoNTEQITRNk",
        "colab_type": "code",
        "colab": {}
      },
      "source": [
        "\n",
        "# | P_female(C = 1) - P_male(C = 1) | < thres\n",
        "def demographic_parity(y_pred, protected_labels, non_protected_labels, thres):\n",
        "\n",
        "  protected_ops = y_pred[protected_labels == 1]\n",
        "  protected_prob = sum(protected_ops)/len(protected_ops)\n",
        "\n",
        "  non_protected_ops = y_pred[non_protected_labels == 1]\n",
        "  non_protected_prob = sum(non_protected_ops)/len(non_protected_ops)\n",
        "\n",
        "  return abs(protected_prob - non_protected_prob)\n",
        "\n",
        "# | P_female(C = 1| Y = 1) - P_male(C = 1 | Y = 1) | < thres\n",
        "def true_positive_parity(actual_labels, y_pred, protected_labels, non_protected_labels, thres):\n",
        "\n",
        "  protected_ops = y_pred[np.bitwise_and(protected_labels == 1, actual_labels == 1)]\n",
        "  protected_prob = sum(protected_ops)/len(protected_ops)\n",
        "\n",
        "  non_protected_ops = y_pred[np.bitwise_and(non_protected_labels == 1, actual_labels == 1)]\n",
        "  non_protected_prob = sum(non_protected_ops)/len(non_protected_ops)\n",
        "\n",
        "  return abs(protected_prob - non_protected_prob)\n",
        "\n",
        "# | P_female(C = 1| Y = 0) - P_male(C = 1 | Y = 0) | < thres\n",
        "def false_positive_parity(actual_labels, y_pred, protected_labels, non_protected_labels, thres):\n",
        "\n",
        "  protected_ops = y_pred[np.bitwise_and(protected_labels == 1, actual_labels ==0)]\n",
        "  protected_prob = sum(protected_ops)/len(protected_ops)\n",
        "\n",
        "  non_protected_ops = y_pred[np.bitwise_and(non_protected_labels == 1, actual_labels == 0)]\n",
        "  non_protected_prob = sum(non_protected_ops)/len(non_protected_ops)\n",
        "\n",
        "  return abs(protected_prob - non_protected_prob)\n",
        "\n",
        "\n",
        "# Satisfy both true positive parity and false positive parity\n",
        "def equalized_odds(actual_labels, y_pred, protected_labels, non_protected_labels, thres):\n",
        "  return true_positive_parity(actual_labels, y_pred, protected_labels, non_protected_labels, thres) > thres and false_positive_parity(actual_labels, y_pred, protected_labels, non_protected_labels, thres) > thres\n",
        "\n",
        "# | P_female(Y = 1| C = 1) - P_male(Y = 1 | C = 1) | < thres\n",
        "def pos_predictive_val_parity(actual_labels, y_pred, protected_labels, non_protected_labels, thres):\n",
        "  \n",
        "  protected_ops = actual_labels[np.bitwise_and(protected_labels == 1, y_pred ==1)]\n",
        "  protected_prob = sum(protected_ops)/len(protected_ops)\n",
        "\n",
        "  non_protected_ops = actual_labels[np.bitwise_and(non_protected_labels == 1, y_pred == 1)]\n",
        "  non_protected_prob = sum(non_protected_ops)/len(non_protected_ops)\n",
        "\n",
        "  return abs(protected_prob - non_protected_prob)\n",
        "\n",
        "\n",
        "# | P_female(Y = 1| C = 0) - P_male(Y = 1 | C = 0) | < thres\n",
        "def neg_predictive_val_parity(actual_labels, y_pred, protected_labels, non_protected_labels, thres):\n",
        "  \n",
        "  protected_ops = actual_labels[np.bitwise_and(protected_labels == 1, y_pred ==0)]\n",
        "  protected_prob = sum(protected_ops)/len(protected_ops)\n",
        "\n",
        "  non_protected_ops = actual_labels[np.bitwise_and(non_protected_labels == 1, y_pred == 0)]\n",
        "  non_protected_prob = sum(non_protected_ops)/len(non_protected_ops)\n",
        "\n",
        "  return abs(protected_prob - non_protected_prob)\n",
        "\n",
        "\n",
        "# Satisfy both positive value parity and negative value parity\n",
        "def predictive_value_parity(actual_labels, y_pred, protected_labels, non_protected_labels, thres):\n",
        "  return pos_predictive_val_parity(actual_labels, y_pred, protected_labels, non_protected_labels, thres) > thres and neg_predictive_val_parity(actual_labels, y_pred, protected_labels, non_protected_labels, thres) > thres\n",
        "\n",
        "def p_rule(y_pred, protected_labels, threshold = 0.5):\n",
        "    y_z_1 = y_pred[protected_labels == 1] > threshold if threshold else y_pred[protected_labels == 1]\n",
        "    y_z_0 = y_pred[protected_labels == 0] > threshold if threshold else y_pred[protected_labels == 0]\n",
        "    odds = y_z_1.mean() / y_z_0.mean()\n",
        "    return np.min([odds, 1 / odds]) * 100"
      ],
      "execution_count": 0,
      "outputs": []
    }
  ]
}