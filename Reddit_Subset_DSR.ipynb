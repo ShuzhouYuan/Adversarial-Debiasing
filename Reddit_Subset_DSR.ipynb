{
  "nbformat": 4,
  "nbformat_minor": 0,
  "metadata": {
    "colab": {
      "name": "Reddit_Subset_DSR.ipynb",
      "provenance": [],
      "collapsed_sections": []
    },
    "kernelspec": {
      "name": "python3",
      "display_name": "Python 3"
    }
  },
  "cells": [
    {
      "cell_type": "code",
      "metadata": {
        "id": "7T1SMDnnMZM1",
        "colab_type": "code",
        "colab": {}
      },
      "source": [
        "import pandas as pd\n",
        "import io\n",
        "import numpy as np\n",
        "import matplotlib.pyplot as plt\n",
        "from google.colab import drive\n",
        "import nltk\n",
        "from nltk.tokenize import sent_tokenize\n",
        "import csv\n",
        "% matplotlib inline"
      ],
      "execution_count": 0,
      "outputs": []
    },
    {
      "cell_type": "code",
      "metadata": {
        "id": "vFytdCSkMjbP",
        "colab_type": "code",
        "outputId": "999e4171-febc-4cbf-b2a7-51997ad37a52",
        "colab": {
          "base_uri": "https://localhost:8080/",
          "height": 122
        }
      },
      "source": [
        "# Mount drive for data reading\n",
        "# This will prompt for authorization.\n",
        "drive.mount('/content/drive')\n",
        "path = \"/content/drive/Shared drives/CIS 519 Project/Code/Reddit Dataset/\""
      ],
      "execution_count": 0,
      "outputs": [
        {
          "output_type": "stream",
          "text": [
            "Go to this URL in a browser: https://accounts.google.com/o/oauth2/auth?client_id=947318989803-6bn6qk8qdgf4n4g3pfee6491hc0brc4i.apps.googleusercontent.com&redirect_uri=urn%3aietf%3awg%3aoauth%3a2.0%3aoob&response_type=code&scope=email%20https%3a%2f%2fwww.googleapis.com%2fauth%2fdocs.test%20https%3a%2f%2fwww.googleapis.com%2fauth%2fdrive%20https%3a%2f%2fwww.googleapis.com%2fauth%2fdrive.photos.readonly%20https%3a%2f%2fwww.googleapis.com%2fauth%2fpeopleapi.readonly\n",
            "\n",
            "Enter your authorization code:\n",
            "··········\n",
            "Mounted at /content/drive\n"
          ],
          "name": "stdout"
        }
      ]
    },
    {
      "cell_type": "code",
      "metadata": {
        "id": "KFrk3HSvMqOp",
        "colab_type": "code",
        "outputId": "e168a0f0-e6fd-440f-b397-81fd4be5f009",
        "colab": {
          "base_uri": "https://localhost:8080/",
          "height": 51
        }
      },
      "source": [
        "df = pd.read_csv(path + 'reddit_comments.csv')"
      ],
      "execution_count": 0,
      "outputs": [
        {
          "output_type": "stream",
          "text": [
            "/usr/local/lib/python3.6/dist-packages/IPython/core/interactiveshell.py:2718: DtypeWarning: Columns (5,19) have mixed types. Specify dtype option on import or set low_memory=False.\n",
            "  interactivity=interactivity, compiler=compiler, result=result)\n"
          ],
          "name": "stderr"
        }
      ]
    },
    {
      "cell_type": "code",
      "metadata": {
        "id": "pnzuShoKND1T",
        "colab_type": "code",
        "outputId": "f9d79cf8-7b85-4969-8c03-32102b6c663e",
        "colab": {
          "base_uri": "https://localhost:8080/",
          "height": 479
        }
      },
      "source": [
        "df.head()"
      ],
      "execution_count": 0,
      "outputs": [
        {
          "output_type": "execute_result",
          "data": {
            "text/html": [
              "<div>\n",
              "<style scoped>\n",
              "    .dataframe tbody tr th:only-of-type {\n",
              "        vertical-align: middle;\n",
              "    }\n",
              "\n",
              "    .dataframe tbody tr th {\n",
              "        vertical-align: top;\n",
              "    }\n",
              "\n",
              "    .dataframe thead th {\n",
              "        text-align: right;\n",
              "    }\n",
              "</style>\n",
              "<table border=\"1\" class=\"dataframe\">\n",
              "  <thead>\n",
              "    <tr style=\"text-align: right;\">\n",
              "      <th></th>\n",
              "      <th>body</th>\n",
              "      <th>score_hidden</th>\n",
              "      <th>archived</th>\n",
              "      <th>name</th>\n",
              "      <th>author</th>\n",
              "      <th>author_flair_text</th>\n",
              "      <th>downs</th>\n",
              "      <th>created_utc</th>\n",
              "      <th>subreddit_id</th>\n",
              "      <th>link_id</th>\n",
              "      <th>parent_id</th>\n",
              "      <th>score</th>\n",
              "      <th>retrieved_on</th>\n",
              "      <th>controversiality</th>\n",
              "      <th>gilded</th>\n",
              "      <th>id</th>\n",
              "      <th>subreddit</th>\n",
              "      <th>ups</th>\n",
              "      <th>distinguished</th>\n",
              "      <th>author_flair_css_class</th>\n",
              "      <th>removal_reason</th>\n",
              "    </tr>\n",
              "  </thead>\n",
              "  <tbody>\n",
              "    <tr>\n",
              "      <th>0</th>\n",
              "      <td>and then lie under oath</td>\n",
              "      <td>NaN</td>\n",
              "      <td>NaN</td>\n",
              "      <td>NaN</td>\n",
              "      <td>dgreene13</td>\n",
              "      <td>NaN</td>\n",
              "      <td>NaN</td>\n",
              "      <td>1175392040</td>\n",
              "      <td>t5_6</td>\n",
              "      <td>t3_1edja</td>\n",
              "      <td>t1_c1edkx</td>\n",
              "      <td>0</td>\n",
              "      <td>1473738021</td>\n",
              "      <td>0</td>\n",
              "      <td>0</td>\n",
              "      <td>c1edq3</td>\n",
              "      <td>reddit.com</td>\n",
              "      <td>0</td>\n",
              "      <td>NaN</td>\n",
              "      <td>NaN</td>\n",
              "      <td>NaN</td>\n",
              "    </tr>\n",
              "    <tr>\n",
              "      <th>1</th>\n",
              "      <td>Wooa, that was cool.</td>\n",
              "      <td>NaN</td>\n",
              "      <td>NaN</td>\n",
              "      <td>NaN</td>\n",
              "      <td>berlinbrown</td>\n",
              "      <td>NaN</td>\n",
              "      <td>NaN</td>\n",
              "      <td>1175403616</td>\n",
              "      <td>t5_6</td>\n",
              "      <td>t3_1ebt9</td>\n",
              "      <td>t3_1ebt9</td>\n",
              "      <td>0</td>\n",
              "      <td>1473738038</td>\n",
              "      <td>0</td>\n",
              "      <td>0</td>\n",
              "      <td>c1eeoa</td>\n",
              "      <td>reddit.com</td>\n",
              "      <td>0</td>\n",
              "      <td>NaN</td>\n",
              "      <td>NaN</td>\n",
              "      <td>NaN</td>\n",
              "    </tr>\n",
              "    <tr>\n",
              "      <th>2</th>\n",
              "      <td>Download collection of Pink! ringtones to your...</td>\n",
              "      <td>NaN</td>\n",
              "      <td>NaN</td>\n",
              "      <td>NaN</td>\n",
              "      <td>leesmith</td>\n",
              "      <td>NaN</td>\n",
              "      <td>NaN</td>\n",
              "      <td>1175410431</td>\n",
              "      <td>t5_6</td>\n",
              "      <td>t3_1ef4w</td>\n",
              "      <td>t3_1ef4w</td>\n",
              "      <td>0</td>\n",
              "      <td>1473738047</td>\n",
              "      <td>0</td>\n",
              "      <td>0</td>\n",
              "      <td>c1ef4z</td>\n",
              "      <td>reddit.com</td>\n",
              "      <td>0</td>\n",
              "      <td>NaN</td>\n",
              "      <td>NaN</td>\n",
              "      <td>NaN</td>\n",
              "    </tr>\n",
              "    <tr>\n",
              "      <th>3</th>\n",
              "      <td>Note that \"WHoA\" will have 4 boxes. \"WoW\" will...</td>\n",
              "      <td>NaN</td>\n",
              "      <td>NaN</td>\n",
              "      <td>NaN</td>\n",
              "      <td>Worstcasescenario</td>\n",
              "      <td>NaN</td>\n",
              "      <td>NaN</td>\n",
              "      <td>1175446712</td>\n",
              "      <td>t5_6</td>\n",
              "      <td>t3_1efqi</td>\n",
              "      <td>t1_c1eh0d</td>\n",
              "      <td>0</td>\n",
              "      <td>1473738097</td>\n",
              "      <td>0</td>\n",
              "      <td>0</td>\n",
              "      <td>c1ehtj</td>\n",
              "      <td>reddit.com</td>\n",
              "      <td>0</td>\n",
              "      <td>NaN</td>\n",
              "      <td>NaN</td>\n",
              "      <td>NaN</td>\n",
              "    </tr>\n",
              "    <tr>\n",
              "      <th>4</th>\n",
              "      <td>I love Magritte's stuff.</td>\n",
              "      <td>NaN</td>\n",
              "      <td>NaN</td>\n",
              "      <td>NaN</td>\n",
              "      <td>HiggsBoson</td>\n",
              "      <td>NaN</td>\n",
              "      <td>NaN</td>\n",
              "      <td>1175458317</td>\n",
              "      <td>t5_6</td>\n",
              "      <td>t3_1ef3d</td>\n",
              "      <td>t1_c1ehip</td>\n",
              "      <td>0</td>\n",
              "      <td>1473738119</td>\n",
              "      <td>0</td>\n",
              "      <td>0</td>\n",
              "      <td>c1ej06</td>\n",
              "      <td>reddit.com</td>\n",
              "      <td>0</td>\n",
              "      <td>NaN</td>\n",
              "      <td>NaN</td>\n",
              "      <td>NaN</td>\n",
              "    </tr>\n",
              "  </tbody>\n",
              "</table>\n",
              "</div>"
            ],
            "text/plain": [
              "                                                body  ...  removal_reason\n",
              "0                            and then lie under oath  ...             NaN\n",
              "1                               Wooa, that was cool.  ...             NaN\n",
              "2  Download collection of Pink! ringtones to your...  ...             NaN\n",
              "3  Note that \"WHoA\" will have 4 boxes. \"WoW\" will...  ...             NaN\n",
              "4                           I love Magritte's stuff.  ...             NaN\n",
              "\n",
              "[5 rows x 21 columns]"
            ]
          },
          "metadata": {
            "tags": []
          },
          "execution_count": 4
        }
      ]
    },
    {
      "cell_type": "code",
      "metadata": {
        "id": "kLelAvugPh1k",
        "colab_type": "code",
        "colab": {}
      },
      "source": [
        "df_with_comments = df[(df.body != '[removed]') & (df.body != '[deleted]')]"
      ],
      "execution_count": 0,
      "outputs": []
    },
    {
      "cell_type": "code",
      "metadata": {
        "id": "4VFDkobfMuyf",
        "colab_type": "code",
        "colab": {}
      },
      "source": [
        "# Select random 1000 records from the input \n",
        "#random_subset_df = df_with_comments.sample(n = 1000, random_state=200) \n",
        "\n",
        "random_subset_df = pd.DataFrame(df_with_comments['body'])"
      ],
      "execution_count": 0,
      "outputs": []
    },
    {
      "cell_type": "code",
      "metadata": {
        "id": "R9805srpQbpl",
        "colab_type": "code",
        "outputId": "d255656b-a224-4084-c7ee-da651d99a405",
        "colab": {
          "base_uri": "https://localhost:8080/",
          "height": 204
        }
      },
      "source": [
        "random_subset_df.head()"
      ],
      "execution_count": 0,
      "outputs": [
        {
          "output_type": "execute_result",
          "data": {
            "text/html": [
              "<div>\n",
              "<style scoped>\n",
              "    .dataframe tbody tr th:only-of-type {\n",
              "        vertical-align: middle;\n",
              "    }\n",
              "\n",
              "    .dataframe tbody tr th {\n",
              "        vertical-align: top;\n",
              "    }\n",
              "\n",
              "    .dataframe thead th {\n",
              "        text-align: right;\n",
              "    }\n",
              "</style>\n",
              "<table border=\"1\" class=\"dataframe\">\n",
              "  <thead>\n",
              "    <tr style=\"text-align: right;\">\n",
              "      <th></th>\n",
              "      <th>body</th>\n",
              "    </tr>\n",
              "  </thead>\n",
              "  <tbody>\n",
              "    <tr>\n",
              "      <th>0</th>\n",
              "      <td>and then lie under oath</td>\n",
              "    </tr>\n",
              "    <tr>\n",
              "      <th>1</th>\n",
              "      <td>Wooa, that was cool.</td>\n",
              "    </tr>\n",
              "    <tr>\n",
              "      <th>2</th>\n",
              "      <td>Download collection of Pink! ringtones to your...</td>\n",
              "    </tr>\n",
              "    <tr>\n",
              "      <th>3</th>\n",
              "      <td>Note that \"WHoA\" will have 4 boxes. \"WoW\" will...</td>\n",
              "    </tr>\n",
              "    <tr>\n",
              "      <th>4</th>\n",
              "      <td>I love Magritte's stuff.</td>\n",
              "    </tr>\n",
              "  </tbody>\n",
              "</table>\n",
              "</div>"
            ],
            "text/plain": [
              "                                                body\n",
              "0                            and then lie under oath\n",
              "1                               Wooa, that was cool.\n",
              "2  Download collection of Pink! ringtones to your...\n",
              "3  Note that \"WHoA\" will have 4 boxes. \"WoW\" will...\n",
              "4                           I love Magritte's stuff."
            ]
          },
          "metadata": {
            "tags": []
          },
          "execution_count": 12
        }
      ]
    },
    {
      "cell_type": "code",
      "metadata": {
        "id": "HbSYmRcCBEes",
        "colab_type": "code",
        "colab": {}
      },
      "source": [
        "MALE_WORDS = set([\n",
        "    'guy','spokesman','chairman',\"men's\",'men','him',\"he's\",'his',\n",
        "    'boy','boyfriend','boyfriends','boys','brother','brothers','dad',\n",
        "    'dads','dude','father','fathers','fiance','gentleman','gentlemen',\n",
        "    'god','grandfather','grandpa','grandson','groom','he','himself',\n",
        "    'husband','husbands','king','male','man','mr','nephew','nephews',\n",
        "    'priest','prince','son','sons','uncle','uncles','waiter','widower',\n",
        "    'widowers'\n",
        "])\n",
        "\n",
        "FEMALE_WORDS = set([\n",
        "    'heroine','spokeswoman','chairwoman',\"women's\",'actress','women',\n",
        "    \"she's\",'her','aunt','aunts','bride','daughter','daughters','female',\n",
        "    'fiancee','girl','girlfriend','girlfriends','girls','goddess',\n",
        "    'granddaughter','grandma','grandmother','herself','ladies','lady',\n",
        "    'lady','mom','moms','mother','mothers','mrs','ms','niece','nieces',\n",
        "    'priestess','princess','queens','she','sister','sisters','waitress',\n",
        "    'widow','widows','wife','wives','woman'\n",
        "])"
      ],
      "execution_count": 0,
      "outputs": []
    },
    {
      "cell_type": "code",
      "metadata": {
        "id": "I6n-ZKA1BLSd",
        "colab_type": "code",
        "outputId": "5528a87d-79e5-47b6-c5e3-b89a8e40241f",
        "colab": {
          "base_uri": "https://localhost:8080/",
          "height": 85
        }
      },
      "source": [
        "# Label comments as male or female\n",
        "def is_male(comment):\n",
        "  if any(ele in comment.split() for ele in MALE_WORDS):\n",
        "    return 1\n",
        "  else:\n",
        "    return 0\n",
        "\n",
        "def is_female(comment):\n",
        "  if any(ele in comment.split() for ele in FEMALE_WORDS):\n",
        "    return 1\n",
        "  else:\n",
        "    return 0\n",
        "\n",
        "print(is_male('and he lie under oath'))\n",
        "print(is_male('and she lie under oath'))\n",
        "print(is_female('and he lie under oath'))\n",
        "print(is_female('and she lie under oath'))"
      ],
      "execution_count": 0,
      "outputs": [
        {
          "output_type": "stream",
          "text": [
            "1\n",
            "0\n",
            "0\n",
            "1\n"
          ],
          "name": "stdout"
        }
      ]
    },
    {
      "cell_type": "code",
      "metadata": {
        "id": "_VLptDf5Fwop",
        "colab_type": "code",
        "colab": {}
      },
      "source": [
        "random_subset_df['male'] = random_subset_df['body'].apply(lambda x: is_male(str(x)))\n",
        "random_subset_df['female'] = random_subset_df['body'].apply(lambda x: is_female(str(x)))"
      ],
      "execution_count": 0,
      "outputs": []
    },
    {
      "cell_type": "code",
      "metadata": {
        "id": "sLl6L2MICr0e",
        "colab_type": "code",
        "outputId": "f8898c7a-9345-4658-ce02-bfcba17f0857",
        "colab": {
          "base_uri": "https://localhost:8080/",
          "height": 204
        }
      },
      "source": [
        "random_subset_df.head()"
      ],
      "execution_count": 0,
      "outputs": [
        {
          "output_type": "execute_result",
          "data": {
            "text/html": [
              "<div>\n",
              "<style scoped>\n",
              "    .dataframe tbody tr th:only-of-type {\n",
              "        vertical-align: middle;\n",
              "    }\n",
              "\n",
              "    .dataframe tbody tr th {\n",
              "        vertical-align: top;\n",
              "    }\n",
              "\n",
              "    .dataframe thead th {\n",
              "        text-align: right;\n",
              "    }\n",
              "</style>\n",
              "<table border=\"1\" class=\"dataframe\">\n",
              "  <thead>\n",
              "    <tr style=\"text-align: right;\">\n",
              "      <th></th>\n",
              "      <th>body</th>\n",
              "      <th>male</th>\n",
              "      <th>female</th>\n",
              "    </tr>\n",
              "  </thead>\n",
              "  <tbody>\n",
              "    <tr>\n",
              "      <th>0</th>\n",
              "      <td>and then lie under oath</td>\n",
              "      <td>0</td>\n",
              "      <td>0</td>\n",
              "    </tr>\n",
              "    <tr>\n",
              "      <th>1</th>\n",
              "      <td>Wooa, that was cool.</td>\n",
              "      <td>0</td>\n",
              "      <td>0</td>\n",
              "    </tr>\n",
              "    <tr>\n",
              "      <th>2</th>\n",
              "      <td>Download collection of Pink! ringtones to your cell phone.</td>\n",
              "      <td>0</td>\n",
              "      <td>0</td>\n",
              "    </tr>\n",
              "    <tr>\n",
              "      <th>3</th>\n",
              "      <td>Note that \"WHoA\" will have 4 boxes. \"WoW\" will have two.</td>\n",
              "      <td>0</td>\n",
              "      <td>0</td>\n",
              "    </tr>\n",
              "    <tr>\n",
              "      <th>4</th>\n",
              "      <td>I love Magritte's stuff.</td>\n",
              "      <td>0</td>\n",
              "      <td>0</td>\n",
              "    </tr>\n",
              "  </tbody>\n",
              "</table>\n",
              "</div>"
            ],
            "text/plain": [
              "                                                         body  male  female\n",
              "0                                     and then lie under oath     0       0\n",
              "1                                        Wooa, that was cool.     0       0\n",
              "2  Download collection of Pink! ringtones to your cell phone.     0       0\n",
              "3    Note that \"WHoA\" will have 4 boxes. \"WoW\" will have two.     0       0\n",
              "4                                    I love Magritte's stuff.     0       0"
            ]
          },
          "metadata": {
            "tags": []
          },
          "execution_count": 42
        }
      ]
    },
    {
      "cell_type": "code",
      "metadata": {
        "id": "7IYtvfa5DYDM",
        "colab_type": "code",
        "outputId": "3f6cac04-0f67-4ea7-cf11-7d75fe4eea31",
        "colab": {
          "base_uri": "https://localhost:8080/",
          "height": 142
        }
      },
      "source": [
        "random_subset_df.groupby('male').count()"
      ],
      "execution_count": 0,
      "outputs": [
        {
          "output_type": "execute_result",
          "data": {
            "text/html": [
              "<div>\n",
              "<style scoped>\n",
              "    .dataframe tbody tr th:only-of-type {\n",
              "        vertical-align: middle;\n",
              "    }\n",
              "\n",
              "    .dataframe tbody tr th {\n",
              "        vertical-align: top;\n",
              "    }\n",
              "\n",
              "    .dataframe thead th {\n",
              "        text-align: right;\n",
              "    }\n",
              "</style>\n",
              "<table border=\"1\" class=\"dataframe\">\n",
              "  <thead>\n",
              "    <tr style=\"text-align: right;\">\n",
              "      <th></th>\n",
              "      <th>body</th>\n",
              "      <th>female</th>\n",
              "    </tr>\n",
              "    <tr>\n",
              "      <th>male</th>\n",
              "      <th></th>\n",
              "      <th></th>\n",
              "    </tr>\n",
              "  </thead>\n",
              "  <tbody>\n",
              "    <tr>\n",
              "      <th>0</th>\n",
              "      <td>1213410</td>\n",
              "      <td>1213537</td>\n",
              "    </tr>\n",
              "    <tr>\n",
              "      <th>1</th>\n",
              "      <td>187258</td>\n",
              "      <td>187258</td>\n",
              "    </tr>\n",
              "  </tbody>\n",
              "</table>\n",
              "</div>"
            ],
            "text/plain": [
              "         body   female\n",
              "male                  \n",
              "0     1213410  1213537\n",
              "1      187258   187258"
            ]
          },
          "metadata": {
            "tags": []
          },
          "execution_count": 43
        }
      ]
    },
    {
      "cell_type": "code",
      "metadata": {
        "id": "sF9LUWjyDr_F",
        "colab_type": "code",
        "outputId": "85c9f597-7c92-4f50-ef43-03c062f4b7b0",
        "colab": {
          "base_uri": "https://localhost:8080/",
          "height": 142
        }
      },
      "source": [
        "random_subset_df.groupby('female').count()"
      ],
      "execution_count": 0,
      "outputs": [
        {
          "output_type": "execute_result",
          "data": {
            "text/html": [
              "<div>\n",
              "<style scoped>\n",
              "    .dataframe tbody tr th:only-of-type {\n",
              "        vertical-align: middle;\n",
              "    }\n",
              "\n",
              "    .dataframe tbody tr th {\n",
              "        vertical-align: top;\n",
              "    }\n",
              "\n",
              "    .dataframe thead th {\n",
              "        text-align: right;\n",
              "    }\n",
              "</style>\n",
              "<table border=\"1\" class=\"dataframe\">\n",
              "  <thead>\n",
              "    <tr style=\"text-align: right;\">\n",
              "      <th></th>\n",
              "      <th>body</th>\n",
              "      <th>male</th>\n",
              "    </tr>\n",
              "    <tr>\n",
              "      <th>female</th>\n",
              "      <th></th>\n",
              "      <th></th>\n",
              "    </tr>\n",
              "  </thead>\n",
              "  <tbody>\n",
              "    <tr>\n",
              "      <th>0</th>\n",
              "      <td>1333007</td>\n",
              "      <td>1333134</td>\n",
              "    </tr>\n",
              "    <tr>\n",
              "      <th>1</th>\n",
              "      <td>67661</td>\n",
              "      <td>67661</td>\n",
              "    </tr>\n",
              "  </tbody>\n",
              "</table>\n",
              "</div>"
            ],
            "text/plain": [
              "           body     male\n",
              "female                  \n",
              "0       1333007  1333134\n",
              "1         67661    67661"
            ]
          },
          "metadata": {
            "tags": []
          },
          "execution_count": 44
        }
      ]
    },
    {
      "cell_type": "code",
      "metadata": {
        "id": "MqYqGq21DxK8",
        "colab_type": "code",
        "outputId": "34681465-f2e3-4994-f3c1-3adee8812de6",
        "colab": {
          "base_uri": "https://localhost:8080/",
          "height": 255
        }
      },
      "source": [
        "pd.set_option('display.max_colwidth',1000)\n",
        "\n",
        "# Only male comments\n",
        "male_subset_df = random_subset_df[(random_subset_df['male'] == 1) & (random_subset_df['female'] == 0)]\n",
        "male_subset_df.head()"
      ],
      "execution_count": 0,
      "outputs": [
        {
          "output_type": "execute_result",
          "data": {
            "text/html": [
              "<div>\n",
              "<style scoped>\n",
              "    .dataframe tbody tr th:only-of-type {\n",
              "        vertical-align: middle;\n",
              "    }\n",
              "\n",
              "    .dataframe tbody tr th {\n",
              "        vertical-align: top;\n",
              "    }\n",
              "\n",
              "    .dataframe thead th {\n",
              "        text-align: right;\n",
              "    }\n",
              "</style>\n",
              "<table border=\"1\" class=\"dataframe\">\n",
              "  <thead>\n",
              "    <tr style=\"text-align: right;\">\n",
              "      <th></th>\n",
              "      <th>body</th>\n",
              "      <th>male</th>\n",
              "      <th>female</th>\n",
              "    </tr>\n",
              "  </thead>\n",
              "  <tbody>\n",
              "    <tr>\n",
              "      <th>5</th>\n",
              "      <td>Unfortunately when it comes down to \"his word against hers\" I have to side with him (Assuming he is accused of rape), because the case needs to be proved beyond a reasonable doubt.   I may be pretty sure that he is lying, but there are still reasonable doubts.\\r\\n\\r\\nI won't like it, but it is the best of several wrong alternatives.</td>\n",
              "      <td>1</td>\n",
              "      <td>0</td>\n",
              "    </tr>\n",
              "    <tr>\n",
              "      <th>7</th>\n",
              "      <td>It is clear, both sides can't think straight.  This guy picked a couple of questions out of the 40?  Here is a question that is siding against the GOP:\\r\\n\\r\\n\"37. Based on what you know about the case of eight federal prosecutors being fired from the Justice Department, do you think Alberto Gonzales should stay in his job as attorney general or should he leave -- either by resigning or by being fired?\"</td>\n",
              "      <td>1</td>\n",
              "      <td>0</td>\n",
              "    </tr>\n",
              "    <tr>\n",
              "      <th>17</th>\n",
              "      <td>As they said he would in 2006, 2005, 2004, 2003, 2004...</td>\n",
              "      <td>1</td>\n",
              "      <td>0</td>\n",
              "    </tr>\n",
              "    <tr>\n",
              "      <th>27</th>\n",
              "      <td>Nobody in LA perceived those as a threat because they are used to dealing with nuclear bomb threats and presidential candidate assassinations and nerve agents in the gas lines. \\r\\n\\r\\nI guess the best way they could be educated not to respond like idiots would be by telling them to trust Jack. I mean, he's earned it.</td>\n",
              "      <td>1</td>\n",
              "      <td>0</td>\n",
              "    </tr>\n",
              "    <tr>\n",
              "      <th>28</th>\n",
              "      <td>Making a judgement about a nationwide company based on experience with 1 (one) store? This guy is an idiot.</td>\n",
              "      <td>1</td>\n",
              "      <td>0</td>\n",
              "    </tr>\n",
              "  </tbody>\n",
              "</table>\n",
              "</div>"
            ],
            "text/plain": [
              "                                                                                                                                                                                                                                                                                                                                                                                                                      body  ...  female\n",
              "5                                                                           Unfortunately when it comes down to \"his word against hers\" I have to side with him (Assuming he is accused of rape), because the case needs to be proved beyond a reasonable doubt.   I may be pretty sure that he is lying, but there are still reasonable doubts.\\r\\n\\r\\nI won't like it, but it is the best of several wrong alternatives.  ...       0\n",
              "7   It is clear, both sides can't think straight.  This guy picked a couple of questions out of the 40?  Here is a question that is siding against the GOP:\\r\\n\\r\\n\"37. Based on what you know about the case of eight federal prosecutors being fired from the Justice Department, do you think Alberto Gonzales should stay in his job as attorney general or should he leave -- either by resigning or by being fired?\"  ...       0\n",
              "17                                                                                                                                                                                                                                                                                                                                                                As they said he would in 2006, 2005, 2004, 2003, 2004...  ...       0\n",
              "27                                                                                         Nobody in LA perceived those as a threat because they are used to dealing with nuclear bomb threats and presidential candidate assassinations and nerve agents in the gas lines. \\r\\n\\r\\nI guess the best way they could be educated not to respond like idiots would be by telling them to trust Jack. I mean, he's earned it.  ...       0\n",
              "28                                                                                                                                                                                                                                                                                                             Making a judgement about a nationwide company based on experience with 1 (one) store? This guy is an idiot.  ...       0\n",
              "\n",
              "[5 rows x 3 columns]"
            ]
          },
          "metadata": {
            "tags": []
          },
          "execution_count": 45
        }
      ]
    },
    {
      "cell_type": "code",
      "metadata": {
        "id": "JEJkstKGIjIn",
        "colab_type": "code",
        "outputId": "d2d0442a-f1f8-4fb1-f2ac-9890b51c8807",
        "colab": {
          "base_uri": "https://localhost:8080/",
          "height": 221
        }
      },
      "source": [
        "# Only female comments\n",
        "female_subset_df = random_subset_df[(random_subset_df['female'] == 1) & (random_subset_df['male'] == 0)]\n",
        "female_subset_df.head()"
      ],
      "execution_count": 0,
      "outputs": [
        {
          "output_type": "execute_result",
          "data": {
            "text/html": [
              "<div>\n",
              "<style scoped>\n",
              "    .dataframe tbody tr th:only-of-type {\n",
              "        vertical-align: middle;\n",
              "    }\n",
              "\n",
              "    .dataframe tbody tr th {\n",
              "        vertical-align: top;\n",
              "    }\n",
              "\n",
              "    .dataframe thead th {\n",
              "        text-align: right;\n",
              "    }\n",
              "</style>\n",
              "<table border=\"1\" class=\"dataframe\">\n",
              "  <thead>\n",
              "    <tr style=\"text-align: right;\">\n",
              "      <th></th>\n",
              "      <th>body</th>\n",
              "      <th>male</th>\n",
              "      <th>female</th>\n",
              "    </tr>\n",
              "  </thead>\n",
              "  <tbody>\n",
              "    <tr>\n",
              "      <th>11</th>\n",
              "      <td>&amp;gt; So where does she get her funding?\\r\\n\\r\\nSame place the \"Holy Blood, Holy Grail\" people got it?</td>\n",
              "      <td>0</td>\n",
              "      <td>1</td>\n",
              "    </tr>\n",
              "    <tr>\n",
              "      <th>38</th>\n",
              "      <td>I read Time when I was 12 and although I don't sleep with my sister by any means, it allowed me to take a step back and reexamine the world I'd grown to accept around me. It was, for me at that age, quite a life changer. But that was a long time ago and I fear I may not like it so much today. I reread Ender's Game and while it was great, it wasn't the same as reading it when I was a child.</td>\n",
              "      <td>0</td>\n",
              "      <td>1</td>\n",
              "    </tr>\n",
              "    <tr>\n",
              "      <th>52</th>\n",
              "      <td>&amp;gt; I saw her game when she ran for senator in NY.\\r\\n\\r\\nWhat game was that?</td>\n",
              "      <td>0</td>\n",
              "      <td>1</td>\n",
              "    </tr>\n",
              "    <tr>\n",
              "      <th>88</th>\n",
              "      <td>Oops - my bad.\\r\\n\\r\\nEDIT:  My bad on Internet.  Where does she mention Cable TV?</td>\n",
              "      <td>0</td>\n",
              "      <td>1</td>\n",
              "    </tr>\n",
              "    <tr>\n",
              "      <th>95</th>\n",
              "      <td>She talks about her husband, I don't think there's any mystery, it's a woman.</td>\n",
              "      <td>0</td>\n",
              "      <td>1</td>\n",
              "    </tr>\n",
              "  </tbody>\n",
              "</table>\n",
              "</div>"
            ],
            "text/plain": [
              "                                                                                                                                                                                                                                                                                                                                                                                                        body  ...  female\n",
              "11                                                                                                                                                                                                                                                                                                     &gt; So where does she get her funding?\\r\\n\\r\\nSame place the \"Holy Blood, Holy Grail\" people got it?  ...       1\n",
              "38  I read Time when I was 12 and although I don't sleep with my sister by any means, it allowed me to take a step back and reexamine the world I'd grown to accept around me. It was, for me at that age, quite a life changer. But that was a long time ago and I fear I may not like it so much today. I reread Ender's Game and while it was great, it wasn't the same as reading it when I was a child.  ...       1\n",
              "52                                                                                                                                                                                                                                                                                                                            &gt; I saw her game when she ran for senator in NY.\\r\\n\\r\\nWhat game was that?  ...       1\n",
              "88                                                                                                                                                                                                                                                                                                                        Oops - my bad.\\r\\n\\r\\nEDIT:  My bad on Internet.  Where does she mention Cable TV?  ...       1\n",
              "95                                                                                                                                                                                                                                                                                                                             She talks about her husband, I don't think there's any mystery, it's a woman.  ...       1\n",
              "\n",
              "[5 rows x 3 columns]"
            ]
          },
          "metadata": {
            "tags": []
          },
          "execution_count": 47
        }
      ]
    },
    {
      "cell_type": "code",
      "metadata": {
        "id": "3iDTWSXFDQOI",
        "colab_type": "code",
        "colab": {}
      },
      "source": [
        "# Get n comments with male words and m comments with female words\n",
        "\n",
        "no_male = 400\n",
        "no_female = 600\n",
        "\n",
        "random_male_subset_df = male_subset_df.sample(n = 400, random_state=200) \n",
        "random_female_subset_df = female_subset_df.sample(n = 600, random_state=200) \n",
        "final_subset_df = pd.concat([random_male_subset_df, random_female_subset_df])"
      ],
      "execution_count": 0,
      "outputs": []
    },
    {
      "cell_type": "code",
      "metadata": {
        "id": "0BCvbX94S7kd",
        "colab_type": "code",
        "outputId": "e15ea783-39f5-4311-9174-00e76d1b1fcb",
        "colab": {
          "base_uri": "https://localhost:8080/",
          "height": 530
        }
      },
      "source": [
        "'''\n",
        "from datetime import datetime, timezone\n",
        "\n",
        "def utc_to_local(utc_dt):\n",
        "    #return utc_dt.replace(tzinfo=timezone.utc).astimezone(tz=None)\n",
        "    return datetime.utcfromtimestamp(utc_dt).strftime('%Y-%m-%d %H:%M:%S')\n",
        "\n",
        "random_subset_df['created_date'] = random_subset_df['created_utc'].apply(lambda x: utc_to_local(x))\n",
        "random_subset_df.head()\n",
        "'''"
      ],
      "execution_count": 0,
      "outputs": [
        {
          "output_type": "execute_result",
          "data": {
            "text/html": [
              "<div>\n",
              "<style scoped>\n",
              "    .dataframe tbody tr th:only-of-type {\n",
              "        vertical-align: middle;\n",
              "    }\n",
              "\n",
              "    .dataframe tbody tr th {\n",
              "        vertical-align: top;\n",
              "    }\n",
              "\n",
              "    .dataframe thead th {\n",
              "        text-align: right;\n",
              "    }\n",
              "</style>\n",
              "<table border=\"1\" class=\"dataframe\">\n",
              "  <thead>\n",
              "    <tr style=\"text-align: right;\">\n",
              "      <th></th>\n",
              "      <th>body</th>\n",
              "      <th>score_hidden</th>\n",
              "      <th>archived</th>\n",
              "      <th>name</th>\n",
              "      <th>author</th>\n",
              "      <th>author_flair_text</th>\n",
              "      <th>downs</th>\n",
              "      <th>created_utc</th>\n",
              "      <th>subreddit_id</th>\n",
              "      <th>link_id</th>\n",
              "      <th>parent_id</th>\n",
              "      <th>score</th>\n",
              "      <th>retrieved_on</th>\n",
              "      <th>controversiality</th>\n",
              "      <th>gilded</th>\n",
              "      <th>id</th>\n",
              "      <th>subreddit</th>\n",
              "      <th>ups</th>\n",
              "      <th>distinguished</th>\n",
              "      <th>author_flair_css_class</th>\n",
              "      <th>removal_reason</th>\n",
              "      <th>created_date</th>\n",
              "    </tr>\n",
              "  </thead>\n",
              "  <tbody>\n",
              "    <tr>\n",
              "      <th>15762</th>\n",
              "      <td>A few years ago, Val Venus and Rikishi of the ...</td>\n",
              "      <td>NaN</td>\n",
              "      <td>NaN</td>\n",
              "      <td>NaN</td>\n",
              "      <td>guriboysf</td>\n",
              "      <td>NaN</td>\n",
              "      <td>NaN</td>\n",
              "      <td>1191883168</td>\n",
              "      <td>t5_6</td>\n",
              "      <td>t3_2xzef</td>\n",
              "      <td>t1_c2xztj</td>\n",
              "      <td>17</td>\n",
              "      <td>1473778133</td>\n",
              "      <td>0</td>\n",
              "      <td>0</td>\n",
              "      <td>c2y054</td>\n",
              "      <td>reddit.com</td>\n",
              "      <td>17</td>\n",
              "      <td>NaN</td>\n",
              "      <td>NaN</td>\n",
              "      <td>NaN</td>\n",
              "      <td>2007-10-08 22:39:28</td>\n",
              "    </tr>\n",
              "    <tr>\n",
              "      <th>450334</th>\n",
              "      <td>aye. I was about to come in here and say that.</td>\n",
              "      <td>NaN</td>\n",
              "      <td>NaN</td>\n",
              "      <td>NaN</td>\n",
              "      <td>jaggederest</td>\n",
              "      <td>NaN</td>\n",
              "      <td>NaN</td>\n",
              "      <td>1188011840</td>\n",
              "      <td>t5_2fwo</td>\n",
              "      <td>t3_2ihuw</td>\n",
              "      <td>t1_c2iitc</td>\n",
              "      <td>1</td>\n",
              "      <td>1473766490</td>\n",
              "      <td>0</td>\n",
              "      <td>0</td>\n",
              "      <td>c2iiuo</td>\n",
              "      <td>programming</td>\n",
              "      <td>1</td>\n",
              "      <td>NaN</td>\n",
              "      <td>NaN</td>\n",
              "      <td>NaN</td>\n",
              "      <td>2007-08-25 03:17:20</td>\n",
              "    </tr>\n",
              "    <tr>\n",
              "      <th>6125</th>\n",
              "      <td>He forgot to add the 's' at the end of that se...</td>\n",
              "      <td>NaN</td>\n",
              "      <td>NaN</td>\n",
              "      <td>NaN</td>\n",
              "      <td>ashmodai</td>\n",
              "      <td>NaN</td>\n",
              "      <td>NaN</td>\n",
              "      <td>1187880910</td>\n",
              "      <td>t5_6</td>\n",
              "      <td>t3_2hqtq</td>\n",
              "      <td>t3_2hqtq</td>\n",
              "      <td>1</td>\n",
              "      <td>1473766104</td>\n",
              "      <td>0</td>\n",
              "      <td>0</td>\n",
              "      <td>c2hywg</td>\n",
              "      <td>reddit.com</td>\n",
              "      <td>1</td>\n",
              "      <td>NaN</td>\n",
              "      <td>NaN</td>\n",
              "      <td>NaN</td>\n",
              "      <td>2007-08-23 14:55:10</td>\n",
              "    </tr>\n",
              "    <tr>\n",
              "      <th>988014</th>\n",
              "      <td>ZOMG TAHNKS LOL</td>\n",
              "      <td>NaN</td>\n",
              "      <td>NaN</td>\n",
              "      <td>NaN</td>\n",
              "      <td>indigoshift</td>\n",
              "      <td>NaN</td>\n",
              "      <td>NaN</td>\n",
              "      <td>1191443098</td>\n",
              "      <td>t5_6</td>\n",
              "      <td>t3_2w7ib</td>\n",
              "      <td>t3_2w7ib</td>\n",
              "      <td>1</td>\n",
              "      <td>1473776889</td>\n",
              "      <td>0</td>\n",
              "      <td>0</td>\n",
              "      <td>c2w9hx</td>\n",
              "      <td>reddit.com</td>\n",
              "      <td>1</td>\n",
              "      <td>NaN</td>\n",
              "      <td>NaN</td>\n",
              "      <td>NaN</td>\n",
              "      <td>2007-10-03 20:24:58</td>\n",
              "    </tr>\n",
              "    <tr>\n",
              "      <th>1000019</th>\n",
              "      <td>The prosecutor has to be soulless.</td>\n",
              "      <td>NaN</td>\n",
              "      <td>NaN</td>\n",
              "      <td>NaN</td>\n",
              "      <td>CommentMan</td>\n",
              "      <td>NaN</td>\n",
              "      <td>NaN</td>\n",
              "      <td>1181083215</td>\n",
              "      <td>t5_6</td>\n",
              "      <td>t3_1w6og</td>\n",
              "      <td>t3_1w6og</td>\n",
              "      <td>9</td>\n",
              "      <td>1473751061</td>\n",
              "      <td>0</td>\n",
              "      <td>0</td>\n",
              "      <td>c1w73b</td>\n",
              "      <td>reddit.com</td>\n",
              "      <td>9</td>\n",
              "      <td>NaN</td>\n",
              "      <td>NaN</td>\n",
              "      <td>NaN</td>\n",
              "      <td>2007-06-05 22:40:15</td>\n",
              "    </tr>\n",
              "  </tbody>\n",
              "</table>\n",
              "</div>"
            ],
            "text/plain": [
              "                                                      body  ...         created_date\n",
              "15762    A few years ago, Val Venus and Rikishi of the ...  ...  2007-10-08 22:39:28\n",
              "450334      aye. I was about to come in here and say that.  ...  2007-08-25 03:17:20\n",
              "6125     He forgot to add the 's' at the end of that se...  ...  2007-08-23 14:55:10\n",
              "988014                                     ZOMG TAHNKS LOL  ...  2007-10-03 20:24:58\n",
              "1000019                 The prosecutor has to be soulless.  ...  2007-06-05 22:40:15\n",
              "\n",
              "[5 rows x 22 columns]"
            ]
          },
          "metadata": {
            "tags": []
          },
          "execution_count": 31
        }
      ]
    },
    {
      "cell_type": "code",
      "metadata": {
        "id": "-vXBACVGJJA2",
        "colab_type": "code",
        "outputId": "96f53cea-d38b-42c5-f7a4-c8106fc7ed66",
        "colab": {
          "base_uri": "https://localhost:8080/",
          "height": 306
        }
      },
      "source": [
        "final_subset_df.head()"
      ],
      "execution_count": 0,
      "outputs": [
        {
          "output_type": "execute_result",
          "data": {
            "text/html": [
              "<div>\n",
              "<style scoped>\n",
              "    .dataframe tbody tr th:only-of-type {\n",
              "        vertical-align: middle;\n",
              "    }\n",
              "\n",
              "    .dataframe tbody tr th {\n",
              "        vertical-align: top;\n",
              "    }\n",
              "\n",
              "    .dataframe thead th {\n",
              "        text-align: right;\n",
              "    }\n",
              "</style>\n",
              "<table border=\"1\" class=\"dataframe\">\n",
              "  <thead>\n",
              "    <tr style=\"text-align: right;\">\n",
              "      <th></th>\n",
              "      <th>body</th>\n",
              "      <th>male</th>\n",
              "      <th>female</th>\n",
              "    </tr>\n",
              "  </thead>\n",
              "  <tbody>\n",
              "    <tr>\n",
              "      <th>519289</th>\n",
              "      <td>&amp;gt;This isn't why we 'overlook' this. Have you heard the man talk? He isn't a single-message candidate.\\r\\n\\r\\nClearly he's not.  It's just that on most other issues he's absolutely bonkers.\\r\\n\\r\\nLike on the role of church in state.</td>\n",
              "      <td>1</td>\n",
              "      <td>0</td>\n",
              "    </tr>\n",
              "    <tr>\n",
              "      <th>584662</th>\n",
              "      <td>just saw on MSNBC breaking news (about 2:00pm eastern time) that there was some Al Q threat in Congress/DC - CONVENIENTLY when the FISA bill is being debated and in addition, some GOP asshole is inferring that people leave DC and \"don't come back until after 9.11\" [sorry I don't remember his name]</td>\n",
              "      <td>1</td>\n",
              "      <td>0</td>\n",
              "    </tr>\n",
              "    <tr>\n",
              "      <th>675071</th>\n",
              "      <td>You know, come to think of it, if he didn't do all of this, someone else *would* have.</td>\n",
              "      <td>1</td>\n",
              "      <td>0</td>\n",
              "    </tr>\n",
              "    <tr>\n",
              "      <th>27806</th>\n",
              "      <td>Do what I did and read the specs on the phone you sent me a picture of.\\r\\n\\r\\n&amp;gt;why was he so scared to go to a war zone? \\r\\n\\r\\nRead read read before you comment. Read read read before you post. I'll make it easy for you. From Wiki:\\r\\n\\r\\nIn September of 2004, while investigating reports that Abu Mousab al-Zarqawi's nascent \"al-Qaeda in Iraq\" group was openly claiming control of the Haifa Street area of Baghdad, Ware was briefly held at gunpoint by terrorists loyal to Zarqawi who had pulled pins from live grenades and forced his car to stop. The men dragged him from the car and stood him beneath one of the banners, intending to film the execution with his own video camera. By threatening them with immediate and violent retaliation, his local guides, including members of the Ba'athist Party, were able to win his release. (Ware has stated that had this happened only a few months later, when Zarqawi's group had grown stronger, he would have been killed.)\\r\\n\\r\\nHe is one of the ...</td>\n",
              "      <td>1</td>\n",
              "      <td>0</td>\n",
              "    </tr>\n",
              "    <tr>\n",
              "      <th>1330303</th>\n",
              "      <td>once and eye-stabber, always an eye-stabber!\\r\\n\\r\\nThat's what my grandpa always used to say!</td>\n",
              "      <td>1</td>\n",
              "      <td>0</td>\n",
              "    </tr>\n",
              "  </tbody>\n",
              "</table>\n",
              "</div>"
            ],
            "text/plain": [
              "                                                                                                                                                                                                                                                                                                                                                                                                                                                                                                                                                                                                                                                                                                                                                                                                                                                                                                                                                                                                                                            body  ...  female\n",
              "519289                                                                                                                                                                                                                                                                                                                                                                                                                                                                                                                                                                                                                                                                                                                                                                                               &gt;This isn't why we 'overlook' this. Have you heard the man talk? He isn't a single-message candidate.\\r\\n\\r\\nClearly he's not.  It's just that on most other issues he's absolutely bonkers.\\r\\n\\r\\nLike on the role of church in state.  ...       0\n",
              "584662                                                                                                                                                                                                                                                                                                                                                                                                                                                                                                                                                                                                                                                                                                                                just saw on MSNBC breaking news (about 2:00pm eastern time) that there was some Al Q threat in Congress/DC - CONVENIENTLY when the FISA bill is being debated and in addition, some GOP asshole is inferring that people leave DC and \"don't come back until after 9.11\" [sorry I don't remember his name]  ...       0\n",
              "675071                                                                                                                                                                                                                                                                                                                                                                                                                                                                                                                                                                                                                                                                                                                                                                                                                                                                                                                                                    You know, come to think of it, if he didn't do all of this, someone else *would* have.  ...       0\n",
              "27806    Do what I did and read the specs on the phone you sent me a picture of.\\r\\n\\r\\n&gt;why was he so scared to go to a war zone? \\r\\n\\r\\nRead read read before you comment. Read read read before you post. I'll make it easy for you. From Wiki:\\r\\n\\r\\nIn September of 2004, while investigating reports that Abu Mousab al-Zarqawi's nascent \"al-Qaeda in Iraq\" group was openly claiming control of the Haifa Street area of Baghdad, Ware was briefly held at gunpoint by terrorists loyal to Zarqawi who had pulled pins from live grenades and forced his car to stop. The men dragged him from the car and stood him beneath one of the banners, intending to film the execution with his own video camera. By threatening them with immediate and violent retaliation, his local guides, including members of the Ba'athist Party, were able to win his release. (Ware has stated that had this happened only a few months later, when Zarqawi's group had grown stronger, he would have been killed.)\\r\\n\\r\\nHe is one of the ...  ...       0\n",
              "1330303                                                                                                                                                                                                                                                                                                                                                                                                                                                                                                                                                                                                                                                                                                                                                                                                                                                                                                                                           once and eye-stabber, always an eye-stabber!\\r\\n\\r\\nThat's what my grandpa always used to say!  ...       0\n",
              "\n",
              "[5 rows x 3 columns]"
            ]
          },
          "metadata": {
            "tags": []
          },
          "execution_count": 50
        }
      ]
    },
    {
      "cell_type": "code",
      "metadata": {
        "id": "DwN03yTHM578",
        "colab_type": "code",
        "colab": {}
      },
      "source": [
        "# Random sampling seems to maintain the distribution. So exporting the subset to CSV on drive\n",
        "final_subset_df.to_csv(path + 'reddit_1000.csv', index=False)"
      ],
      "execution_count": 0,
      "outputs": []
    },
    {
      "cell_type": "code",
      "metadata": {
        "id": "7PWHnIHMf9WK",
        "colab_type": "code",
        "colab": {}
      },
      "source": [
        "# Summary Statistics\n",
        "import matplotlib.pyplot as plt\n",
        "% matplotlib inline\n",
        "\n",
        "toxic_perc = 0.227\n",
        "non_toxic_perc = 1-toxic_perc\n",
        "total_count = 1000\n",
        "\n",
        "#Male-Female Distribution for Toxicity\n",
        "toxic_female = 155\n",
        "non_toxic_female = 445\n",
        "toxic_male = 72\n",
        "non_toxic_male = 328\n",
        "\n",
        "toxic_female_perc = toxic_female/(toxic_female + non_toxic_female)\n",
        "toxic_male_perc = toxic_male/(toxic_male +non_toxic_male)\n",
        "\n"
      ],
      "execution_count": 0,
      "outputs": []
    },
    {
      "cell_type": "code",
      "metadata": {
        "id": "R3QbQ2T8gOMO",
        "colab_type": "code",
        "outputId": "f9754fdf-4c5a-4ee2-e1b8-101157e3f06e",
        "colab": {
          "base_uri": "https://localhost:8080/",
          "height": 280
        }
      },
      "source": [
        "#Combine plots \n",
        "# set width of bar\n",
        "barWidth = 0.25\n",
        " \n",
        "# set height of bar\n",
        "bars1 = [toxic_perc, non_toxic_perc] #Overall \n",
        "bars2 = [toxic_female/total_count,non_toxic_female/total_count] #For females\n",
        "bars3 = [toxic_male/total_count, non_toxic_male/total_count] #For males\n",
        " \n",
        "# Set position of bar on X axis\n",
        "r1 = np.arange(len(bars1))\n",
        "r2 = [x + barWidth for x in r1]\n",
        "r3 = [x + barWidth for x in r2]\n",
        " \n",
        "# Make the plot\n",
        "plt.bar(r1, bars1, color='#7f6d5f', width=barWidth, edgecolor='white', label='Overall Data')\n",
        "plt.bar(r2, bars2, color='#557f2d', width=barWidth, edgecolor='white', label='Female Data')\n",
        "plt.bar(r3, bars3, color='#2d7f5e', width=barWidth, edgecolor='white', label='Male Data')\n",
        "plt.ylabel('Proportion of Total comments')\n",
        "\n",
        "# Add xticks on the middle of the group bars\n",
        "plt.xlabel('group', fontweight='bold')\n",
        "plt.xticks([r + barWidth for r in range(len(bars1))], ['Toxic', 'Non-Toxic'])\n",
        " \n",
        "# Create legend & Show graphic\n",
        "plt.legend()\n",
        "plt.show()"
      ],
      "execution_count": 0,
      "outputs": [
        {
          "output_type": "display_data",
          "data": {
            "image/png": "[encoded data removed]",
            "text/plain": [
              "<Figure size 432x288 with 1 Axes>"
            ]
          },
          "metadata": {
            "tags": []
          }
        }
      ]
    }
  ]
}